{
 "cells": [
  {
   "cell_type": "code",
   "execution_count": null,
   "metadata": {
    "colab": {
     "base_uri": "https://localhost:8080/"
    },
    "id": "WuVSgRUJTiUH",
    "outputId": "91ae57ff-7799-40c1-9928-381fe33d8d64"
   },
   "outputs": [],
   "source": []
  },
  {
   "cell_type": "markdown",
   "metadata": {},
   "source": [
    "### **Modules Importation**"
   ]
  },
  {
   "cell_type": "code",
   "execution_count": 1,
   "metadata": {
    "id": "W1QlUmRRV8v5"
   },
   "outputs": [],
   "source": [
    "import pandas as pd\n",
    "import matplotlib.pyplot as plt\n",
    "import numpy as np\n",
    "import datetime as dt\n",
    "\n",
    "from nba_api.stats.static import players\n",
    "from nba_api.stats.library import parameters\n",
    "\n",
    "from nba_api.stats.static import teams\n",
    "from nba_api.stats.endpoints import teamgamelog\n"
   ]
  },
  {
   "cell_type": "markdown",
   "metadata": {},
   "source": [
    "### ***CONSTANT***"
   ]
  },
  {
   "cell_type": "code",
   "execution_count": 2,
   "metadata": {},
   "outputs": [],
   "source": [
    "PlayerNameSelected = \"Scottie Pippen\"\n",
    "OpponentSelected = \"SAS\"\n",
    "TeamNameSelected = \"Los Angeles Clippers\"\n",
    "SeasonSelected = \"1998\""
   ]
  },
  {
   "cell_type": "code",
   "execution_count": 3,
   "metadata": {
    "id": "XkIXmnZdWFvc"
   },
   "outputs": [],
   "source": [
    "active_players_df = pd.DataFrame(players.get_players())"
   ]
  },
  {
   "cell_type": "code",
   "execution_count": 4,
   "metadata": {
    "colab": {
     "base_uri": "https://localhost:8080/"
    },
    "id": "l5aMLPYmZwY5",
    "outputId": "ae38ee29-1541-4687-f63e-f10e503303a0"
   },
   "outputs": [
    {
     "data": {
      "text/plain": [
       "Index(['id', 'full_name', 'first_name', 'last_name', 'is_active'], dtype='object')"
      ]
     },
     "execution_count": 4,
     "metadata": {},
     "output_type": "execute_result"
    }
   ],
   "source": [
    "active_players_df.columns"
   ]
  },
  {
   "cell_type": "markdown",
   "metadata": {
    "id": "h6lFfJtLDQzp"
   },
   "source": [
    "##### **Find the id of a player**"
   ]
  },
  {
   "cell_type": "code",
   "execution_count": 5,
   "metadata": {
    "colab": {
     "base_uri": "https://localhost:8080/"
    },
    "id": "YOVphdUObNl5",
    "outputId": "528ac434-7f6b-4d1b-b9bb-4ccc95c5ff61"
   },
   "outputs": [
    {
     "data": {
      "text/plain": [
       "3186    937\n",
       "Name: id, dtype: int64"
      ]
     },
     "execution_count": 5,
     "metadata": {},
     "output_type": "execute_result"
    }
   ],
   "source": [
    "player_id = active_players_df.loc[active_players_df.full_name == PlayerNameSelected][\"id\"]\n",
    "player_id"
   ]
  },
  {
   "cell_type": "markdown",
   "metadata": {
    "id": "AaP8FT34GY-2"
   },
   "source": [
    "##### _**Gamelog of a player**_\n"
   ]
  },
  {
   "cell_type": "code",
   "execution_count": 6,
   "metadata": {
    "id": "xfIdQFqsoUnH"
   },
   "outputs": [],
   "source": [
    "import urllib3, socket\n",
    "from urllib3.connection import HTTPConnection\n",
    "    \n",
    "HTTPConnection.default_socket_options = ( \n",
    "    HTTPConnection.default_socket_options + [\n",
    "    (socket.SOL_SOCKET, socket.SO_SNDBUF, 2000000), #1MB in byte\n",
    "    (socket.SOL_SOCKET, socket.SO_RCVBUF, 2000000)\n",
    "])"
   ]
  },
  {
   "cell_type": "code",
   "execution_count": 7,
   "metadata": {
    "id": "44Wb39lBGvlv"
   },
   "outputs": [],
   "source": [
    "from nba_api.stats.endpoints import playergamelog"
   ]
  },
  {
   "cell_type": "code",
   "execution_count": 8,
   "metadata": {
    "colab": {
     "base_uri": "https://localhost:8080/",
     "height": 438
    },
    "id": "huPQBMZsG_fV",
    "outputId": "1472e53a-26e2-46dc-ac3f-67e849ae8e41"
   },
   "outputs": [],
   "source": [
    "player_sheet = playergamelog.PlayerGameLog(player_id, season=SeasonSelected)"
   ]
  },
  {
   "cell_type": "code",
   "execution_count": 9,
   "metadata": {},
   "outputs": [],
   "source": [
    "player_gamelog_df = player_sheet.get_data_frames()"
   ]
  },
  {
   "cell_type": "code",
   "execution_count": 10,
   "metadata": {},
   "outputs": [],
   "source": [
    "#Select the ith dataframe \n",
    "player_gamelog_select_df = player_gamelog_df[0]"
   ]
  },
  {
   "cell_type": "code",
   "execution_count": 11,
   "metadata": {},
   "outputs": [
    {
     "data": {
      "text/html": [
       "<div>\n",
       "<style scoped>\n",
       "    .dataframe tbody tr th:only-of-type {\n",
       "        vertical-align: middle;\n",
       "    }\n",
       "\n",
       "    .dataframe tbody tr th {\n",
       "        vertical-align: top;\n",
       "    }\n",
       "\n",
       "    .dataframe thead th {\n",
       "        text-align: right;\n",
       "    }\n",
       "</style>\n",
       "<table border=\"1\" class=\"dataframe\">\n",
       "  <thead>\n",
       "    <tr style=\"text-align: right;\">\n",
       "      <th></th>\n",
       "      <th>Player_ID</th>\n",
       "      <th>MIN</th>\n",
       "      <th>FGM</th>\n",
       "      <th>FGA</th>\n",
       "      <th>FG_PCT</th>\n",
       "      <th>FG3M</th>\n",
       "      <th>FG3A</th>\n",
       "      <th>FG3_PCT</th>\n",
       "      <th>FTM</th>\n",
       "      <th>FTA</th>\n",
       "      <th>...</th>\n",
       "      <th>DREB</th>\n",
       "      <th>REB</th>\n",
       "      <th>AST</th>\n",
       "      <th>STL</th>\n",
       "      <th>BLK</th>\n",
       "      <th>TOV</th>\n",
       "      <th>PF</th>\n",
       "      <th>PTS</th>\n",
       "      <th>PLUS_MINUS</th>\n",
       "      <th>VIDEO_AVAILABLE</th>\n",
       "    </tr>\n",
       "  </thead>\n",
       "  <tbody>\n",
       "    <tr>\n",
       "      <th>count</th>\n",
       "      <td>50.0</td>\n",
       "      <td>50.000000</td>\n",
       "      <td>50.000000</td>\n",
       "      <td>50.000000</td>\n",
       "      <td>50.000000</td>\n",
       "      <td>50.000000</td>\n",
       "      <td>50.000000</td>\n",
       "      <td>50.000000</td>\n",
       "      <td>50.000000</td>\n",
       "      <td>50.000000</td>\n",
       "      <td>...</td>\n",
       "      <td>50.000000</td>\n",
       "      <td>50.000000</td>\n",
       "      <td>50.000000</td>\n",
       "      <td>50.000000</td>\n",
       "      <td>50.000000</td>\n",
       "      <td>50.000000</td>\n",
       "      <td>50.000000</td>\n",
       "      <td>50.000000</td>\n",
       "      <td>50.000000</td>\n",
       "      <td>50.0</td>\n",
       "    </tr>\n",
       "    <tr>\n",
       "      <th>mean</th>\n",
       "      <td>937.0</td>\n",
       "      <td>40.260000</td>\n",
       "      <td>5.220000</td>\n",
       "      <td>12.080000</td>\n",
       "      <td>0.424980</td>\n",
       "      <td>1.440000</td>\n",
       "      <td>4.240000</td>\n",
       "      <td>0.317200</td>\n",
       "      <td>2.640000</td>\n",
       "      <td>3.660000</td>\n",
       "      <td>...</td>\n",
       "      <td>5.200000</td>\n",
       "      <td>6.460000</td>\n",
       "      <td>5.860000</td>\n",
       "      <td>1.960000</td>\n",
       "      <td>0.740000</td>\n",
       "      <td>3.180000</td>\n",
       "      <td>2.360000</td>\n",
       "      <td>14.520000</td>\n",
       "      <td>1.240000</td>\n",
       "      <td>0.0</td>\n",
       "    </tr>\n",
       "    <tr>\n",
       "      <th>std</th>\n",
       "      <td>0.0</td>\n",
       "      <td>4.457555</td>\n",
       "      <td>2.468495</td>\n",
       "      <td>4.129733</td>\n",
       "      <td>0.112188</td>\n",
       "      <td>1.357669</td>\n",
       "      <td>2.181181</td>\n",
       "      <td>0.257745</td>\n",
       "      <td>2.455814</td>\n",
       "      <td>2.987115</td>\n",
       "      <td>...</td>\n",
       "      <td>2.020305</td>\n",
       "      <td>2.492519</td>\n",
       "      <td>2.539564</td>\n",
       "      <td>1.628321</td>\n",
       "      <td>0.921622</td>\n",
       "      <td>1.612325</td>\n",
       "      <td>1.064453</td>\n",
       "      <td>6.402296</td>\n",
       "      <td>13.403563</td>\n",
       "      <td>0.0</td>\n",
       "    </tr>\n",
       "    <tr>\n",
       "      <th>min</th>\n",
       "      <td>937.0</td>\n",
       "      <td>27.000000</td>\n",
       "      <td>2.000000</td>\n",
       "      <td>5.000000</td>\n",
       "      <td>0.167000</td>\n",
       "      <td>0.000000</td>\n",
       "      <td>1.000000</td>\n",
       "      <td>0.000000</td>\n",
       "      <td>0.000000</td>\n",
       "      <td>0.000000</td>\n",
       "      <td>...</td>\n",
       "      <td>1.000000</td>\n",
       "      <td>2.000000</td>\n",
       "      <td>1.000000</td>\n",
       "      <td>0.000000</td>\n",
       "      <td>0.000000</td>\n",
       "      <td>0.000000</td>\n",
       "      <td>0.000000</td>\n",
       "      <td>4.000000</td>\n",
       "      <td>-25.000000</td>\n",
       "      <td>0.0</td>\n",
       "    </tr>\n",
       "    <tr>\n",
       "      <th>25%</th>\n",
       "      <td>937.0</td>\n",
       "      <td>38.000000</td>\n",
       "      <td>3.000000</td>\n",
       "      <td>9.250000</td>\n",
       "      <td>0.333000</td>\n",
       "      <td>0.000000</td>\n",
       "      <td>2.250000</td>\n",
       "      <td>0.000000</td>\n",
       "      <td>1.000000</td>\n",
       "      <td>2.000000</td>\n",
       "      <td>...</td>\n",
       "      <td>4.000000</td>\n",
       "      <td>5.000000</td>\n",
       "      <td>4.000000</td>\n",
       "      <td>1.000000</td>\n",
       "      <td>0.000000</td>\n",
       "      <td>2.000000</td>\n",
       "      <td>2.000000</td>\n",
       "      <td>10.000000</td>\n",
       "      <td>-11.000000</td>\n",
       "      <td>0.0</td>\n",
       "    </tr>\n",
       "    <tr>\n",
       "      <th>50%</th>\n",
       "      <td>937.0</td>\n",
       "      <td>41.000000</td>\n",
       "      <td>5.000000</td>\n",
       "      <td>12.000000</td>\n",
       "      <td>0.429000</td>\n",
       "      <td>1.000000</td>\n",
       "      <td>4.000000</td>\n",
       "      <td>0.366500</td>\n",
       "      <td>2.000000</td>\n",
       "      <td>4.000000</td>\n",
       "      <td>...</td>\n",
       "      <td>5.000000</td>\n",
       "      <td>6.000000</td>\n",
       "      <td>5.000000</td>\n",
       "      <td>2.000000</td>\n",
       "      <td>0.500000</td>\n",
       "      <td>3.000000</td>\n",
       "      <td>2.000000</td>\n",
       "      <td>15.000000</td>\n",
       "      <td>2.000000</td>\n",
       "      <td>0.0</td>\n",
       "    </tr>\n",
       "    <tr>\n",
       "      <th>75%</th>\n",
       "      <td>937.0</td>\n",
       "      <td>44.000000</td>\n",
       "      <td>7.000000</td>\n",
       "      <td>15.000000</td>\n",
       "      <td>0.500000</td>\n",
       "      <td>2.000000</td>\n",
       "      <td>5.750000</td>\n",
       "      <td>0.500000</td>\n",
       "      <td>4.000000</td>\n",
       "      <td>5.750000</td>\n",
       "      <td>...</td>\n",
       "      <td>7.000000</td>\n",
       "      <td>8.000000</td>\n",
       "      <td>7.750000</td>\n",
       "      <td>2.750000</td>\n",
       "      <td>1.000000</td>\n",
       "      <td>4.000000</td>\n",
       "      <td>3.000000</td>\n",
       "      <td>18.000000</td>\n",
       "      <td>12.750000</td>\n",
       "      <td>0.0</td>\n",
       "    </tr>\n",
       "    <tr>\n",
       "      <th>max</th>\n",
       "      <td>937.0</td>\n",
       "      <td>47.000000</td>\n",
       "      <td>12.000000</td>\n",
       "      <td>23.000000</td>\n",
       "      <td>0.706000</td>\n",
       "      <td>6.000000</td>\n",
       "      <td>11.000000</td>\n",
       "      <td>1.000000</td>\n",
       "      <td>13.000000</td>\n",
       "      <td>16.000000</td>\n",
       "      <td>...</td>\n",
       "      <td>9.000000</td>\n",
       "      <td>13.000000</td>\n",
       "      <td>11.000000</td>\n",
       "      <td>7.000000</td>\n",
       "      <td>3.000000</td>\n",
       "      <td>7.000000</td>\n",
       "      <td>5.000000</td>\n",
       "      <td>31.000000</td>\n",
       "      <td>23.000000</td>\n",
       "      <td>0.0</td>\n",
       "    </tr>\n",
       "  </tbody>\n",
       "</table>\n",
       "<p>8 rows × 22 columns</p>\n",
       "</div>"
      ],
      "text/plain": [
       "       Player_ID        MIN        FGM        FGA     FG_PCT       FG3M  \\\n",
       "count       50.0  50.000000  50.000000  50.000000  50.000000  50.000000   \n",
       "mean       937.0  40.260000   5.220000  12.080000   0.424980   1.440000   \n",
       "std          0.0   4.457555   2.468495   4.129733   0.112188   1.357669   \n",
       "min        937.0  27.000000   2.000000   5.000000   0.167000   0.000000   \n",
       "25%        937.0  38.000000   3.000000   9.250000   0.333000   0.000000   \n",
       "50%        937.0  41.000000   5.000000  12.000000   0.429000   1.000000   \n",
       "75%        937.0  44.000000   7.000000  15.000000   0.500000   2.000000   \n",
       "max        937.0  47.000000  12.000000  23.000000   0.706000   6.000000   \n",
       "\n",
       "            FG3A    FG3_PCT        FTM        FTA  ...       DREB        REB  \\\n",
       "count  50.000000  50.000000  50.000000  50.000000  ...  50.000000  50.000000   \n",
       "mean    4.240000   0.317200   2.640000   3.660000  ...   5.200000   6.460000   \n",
       "std     2.181181   0.257745   2.455814   2.987115  ...   2.020305   2.492519   \n",
       "min     1.000000   0.000000   0.000000   0.000000  ...   1.000000   2.000000   \n",
       "25%     2.250000   0.000000   1.000000   2.000000  ...   4.000000   5.000000   \n",
       "50%     4.000000   0.366500   2.000000   4.000000  ...   5.000000   6.000000   \n",
       "75%     5.750000   0.500000   4.000000   5.750000  ...   7.000000   8.000000   \n",
       "max    11.000000   1.000000  13.000000  16.000000  ...   9.000000  13.000000   \n",
       "\n",
       "             AST        STL        BLK        TOV         PF        PTS  \\\n",
       "count  50.000000  50.000000  50.000000  50.000000  50.000000  50.000000   \n",
       "mean    5.860000   1.960000   0.740000   3.180000   2.360000  14.520000   \n",
       "std     2.539564   1.628321   0.921622   1.612325   1.064453   6.402296   \n",
       "min     1.000000   0.000000   0.000000   0.000000   0.000000   4.000000   \n",
       "25%     4.000000   1.000000   0.000000   2.000000   2.000000  10.000000   \n",
       "50%     5.000000   2.000000   0.500000   3.000000   2.000000  15.000000   \n",
       "75%     7.750000   2.750000   1.000000   4.000000   3.000000  18.000000   \n",
       "max    11.000000   7.000000   3.000000   7.000000   5.000000  31.000000   \n",
       "\n",
       "       PLUS_MINUS  VIDEO_AVAILABLE  \n",
       "count   50.000000             50.0  \n",
       "mean     1.240000              0.0  \n",
       "std     13.403563              0.0  \n",
       "min    -25.000000              0.0  \n",
       "25%    -11.000000              0.0  \n",
       "50%      2.000000              0.0  \n",
       "75%     12.750000              0.0  \n",
       "max     23.000000              0.0  \n",
       "\n",
       "[8 rows x 22 columns]"
      ]
     },
     "execution_count": 11,
     "metadata": {},
     "output_type": "execute_result"
    }
   ],
   "source": [
    "player_gamelog_select_df.describe()"
   ]
  },
  {
   "cell_type": "code",
   "execution_count": 12,
   "metadata": {},
   "outputs": [
    {
     "data": {
      "text/plain": [
       "<AxesSubplot:ylabel='Frequency'>"
      ]
     },
     "execution_count": 12,
     "metadata": {},
     "output_type": "execute_result"
    },
    {
     "data": {
      "image/png": "[encoded data removed]",
      "text/plain": [
       "<Figure size 432x288 with 1 Axes>"
      ]
     },
     "metadata": {
      "needs_background": "light"
     },
     "output_type": "display_data"
    }
   ],
   "source": [
    "\n",
    "player_gamelog_select_df.plot.hist(y=\"PTS\", bins=10, alpha=0.8, color=\"red\")\n",
    "\n",
    "#fig, ax = plt.subplots()\n",
    "\n",
    "#for col in [\"PTS\", \"REB\", \"AST\", \"FG_PCT\", \"TOV\"]:\n",
    "    #player_gamelog_select_df[col].hist(alpha=0.3, ax=ax, label=col)\n",
    "\n",
    "#player_gamelog_select_df.plot.hist(y=\"REB\", bins=10, alpha=0.5, color=\"blue\")\n",
    "#player_gamelog_select_df.plot.hist(y=\"AST\", bins=10, alpha=0.2, color=\"black\")"
   ]
  },
  {
   "cell_type": "markdown",
   "metadata": {},
   "source": [
    "##### **Gamelog for a career**"
   ]
  },
  {
   "cell_type": "code",
   "execution_count": 13,
   "metadata": {},
   "outputs": [],
   "source": [
    "ALL = parameters.SeasonAll().all"
   ]
  },
  {
   "cell_type": "code",
   "execution_count": 14,
   "metadata": {},
   "outputs": [],
   "source": [
    "player_gmlog_car = playergamelog.PlayerGameLog(player_id, season=ALL)"
   ]
  },
  {
   "cell_type": "code",
   "execution_count": 15,
   "metadata": {},
   "outputs": [],
   "source": [
    "player_gmlog_car_df = player_gmlog_car.get_data_frames()[0]"
   ]
  },
  {
   "cell_type": "code",
   "execution_count": 16,
   "metadata": {},
   "outputs": [
    {
     "data": {
      "text/html": [
       "<div>\n",
       "<style scoped>\n",
       "    .dataframe tbody tr th:only-of-type {\n",
       "        vertical-align: middle;\n",
       "    }\n",
       "\n",
       "    .dataframe tbody tr th {\n",
       "        vertical-align: top;\n",
       "    }\n",
       "\n",
       "    .dataframe thead th {\n",
       "        text-align: right;\n",
       "    }\n",
       "</style>\n",
       "<table border=\"1\" class=\"dataframe\">\n",
       "  <thead>\n",
       "    <tr style=\"text-align: right;\">\n",
       "      <th></th>\n",
       "      <th>SEASON_ID</th>\n",
       "      <th>Player_ID</th>\n",
       "      <th>Game_ID</th>\n",
       "      <th>GAME_DATE</th>\n",
       "      <th>MATCHUP</th>\n",
       "      <th>WL</th>\n",
       "      <th>MIN</th>\n",
       "      <th>FGM</th>\n",
       "      <th>FGA</th>\n",
       "      <th>FG_PCT</th>\n",
       "      <th>...</th>\n",
       "      <th>DREB</th>\n",
       "      <th>REB</th>\n",
       "      <th>AST</th>\n",
       "      <th>STL</th>\n",
       "      <th>BLK</th>\n",
       "      <th>TOV</th>\n",
       "      <th>PF</th>\n",
       "      <th>PTS</th>\n",
       "      <th>PLUS_MINUS</th>\n",
       "      <th>VIDEO_AVAILABLE</th>\n",
       "    </tr>\n",
       "  </thead>\n",
       "  <tbody>\n",
       "    <tr>\n",
       "      <th>0</th>\n",
       "      <td>22003</td>\n",
       "      <td>937</td>\n",
       "      <td>0020300691</td>\n",
       "      <td>FEB 02, 2004</td>\n",
       "      <td>CHI @ SEA</td>\n",
       "      <td>L</td>\n",
       "      <td>8</td>\n",
       "      <td>1</td>\n",
       "      <td>3</td>\n",
       "      <td>0.333</td>\n",
       "      <td>...</td>\n",
       "      <td>0</td>\n",
       "      <td>1</td>\n",
       "      <td>3</td>\n",
       "      <td>0</td>\n",
       "      <td>0</td>\n",
       "      <td>0</td>\n",
       "      <td>0</td>\n",
       "      <td>2</td>\n",
       "      <td>-7.0</td>\n",
       "      <td>0</td>\n",
       "    </tr>\n",
       "    <tr>\n",
       "      <th>1</th>\n",
       "      <td>22003</td>\n",
       "      <td>937</td>\n",
       "      <td>0020300678</td>\n",
       "      <td>JAN 31, 2004</td>\n",
       "      <td>CHI @ POR</td>\n",
       "      <td>L</td>\n",
       "      <td>35</td>\n",
       "      <td>6</td>\n",
       "      <td>13</td>\n",
       "      <td>0.462</td>\n",
       "      <td>...</td>\n",
       "      <td>2</td>\n",
       "      <td>7</td>\n",
       "      <td>4</td>\n",
       "      <td>1</td>\n",
       "      <td>1</td>\n",
       "      <td>2</td>\n",
       "      <td>0</td>\n",
       "      <td>17</td>\n",
       "      <td>-9.0</td>\n",
       "      <td>0</td>\n",
       "    </tr>\n",
       "    <tr>\n",
       "      <th>2</th>\n",
       "      <td>22003</td>\n",
       "      <td>937</td>\n",
       "      <td>0020300668</td>\n",
       "      <td>JAN 30, 2004</td>\n",
       "      <td>CHI @ GSW</td>\n",
       "      <td>L</td>\n",
       "      <td>7</td>\n",
       "      <td>0</td>\n",
       "      <td>1</td>\n",
       "      <td>0.000</td>\n",
       "      <td>...</td>\n",
       "      <td>0</td>\n",
       "      <td>1</td>\n",
       "      <td>0</td>\n",
       "      <td>0</td>\n",
       "      <td>0</td>\n",
       "      <td>0</td>\n",
       "      <td>0</td>\n",
       "      <td>0</td>\n",
       "      <td>-7.0</td>\n",
       "      <td>0</td>\n",
       "    </tr>\n",
       "    <tr>\n",
       "      <th>3</th>\n",
       "      <td>22003</td>\n",
       "      <td>937</td>\n",
       "      <td>0020300653</td>\n",
       "      <td>JAN 28, 2004</td>\n",
       "      <td>CHI @ DEN</td>\n",
       "      <td>L</td>\n",
       "      <td>10</td>\n",
       "      <td>1</td>\n",
       "      <td>2</td>\n",
       "      <td>0.500</td>\n",
       "      <td>...</td>\n",
       "      <td>0</td>\n",
       "      <td>0</td>\n",
       "      <td>2</td>\n",
       "      <td>0</td>\n",
       "      <td>0</td>\n",
       "      <td>0</td>\n",
       "      <td>2</td>\n",
       "      <td>2</td>\n",
       "      <td>-7.0</td>\n",
       "      <td>0</td>\n",
       "    </tr>\n",
       "    <tr>\n",
       "      <th>4</th>\n",
       "      <td>22003</td>\n",
       "      <td>937</td>\n",
       "      <td>0020300644</td>\n",
       "      <td>JAN 27, 2004</td>\n",
       "      <td>CHI @ LAC</td>\n",
       "      <td>L</td>\n",
       "      <td>8</td>\n",
       "      <td>0</td>\n",
       "      <td>2</td>\n",
       "      <td>0.000</td>\n",
       "      <td>...</td>\n",
       "      <td>2</td>\n",
       "      <td>2</td>\n",
       "      <td>1</td>\n",
       "      <td>1</td>\n",
       "      <td>0</td>\n",
       "      <td>0</td>\n",
       "      <td>2</td>\n",
       "      <td>0</td>\n",
       "      <td>-3.0</td>\n",
       "      <td>0</td>\n",
       "    </tr>\n",
       "    <tr>\n",
       "      <th>5</th>\n",
       "      <td>22003</td>\n",
       "      <td>937</td>\n",
       "      <td>0020300616</td>\n",
       "      <td>JAN 23, 2004</td>\n",
       "      <td>CHI vs. DAL</td>\n",
       "      <td>L</td>\n",
       "      <td>8</td>\n",
       "      <td>2</td>\n",
       "      <td>6</td>\n",
       "      <td>0.333</td>\n",
       "      <td>...</td>\n",
       "      <td>2</td>\n",
       "      <td>2</td>\n",
       "      <td>0</td>\n",
       "      <td>0</td>\n",
       "      <td>1</td>\n",
       "      <td>1</td>\n",
       "      <td>2</td>\n",
       "      <td>4</td>\n",
       "      <td>-9.0</td>\n",
       "      <td>0</td>\n",
       "    </tr>\n",
       "    <tr>\n",
       "      <th>6</th>\n",
       "      <td>22003</td>\n",
       "      <td>937</td>\n",
       "      <td>0020300597</td>\n",
       "      <td>JAN 21, 2004</td>\n",
       "      <td>CHI @ ATL</td>\n",
       "      <td>L</td>\n",
       "      <td>16</td>\n",
       "      <td>2</td>\n",
       "      <td>4</td>\n",
       "      <td>0.500</td>\n",
       "      <td>...</td>\n",
       "      <td>1</td>\n",
       "      <td>2</td>\n",
       "      <td>1</td>\n",
       "      <td>0</td>\n",
       "      <td>0</td>\n",
       "      <td>0</td>\n",
       "      <td>1</td>\n",
       "      <td>6</td>\n",
       "      <td>2.0</td>\n",
       "      <td>0</td>\n",
       "    </tr>\n",
       "  </tbody>\n",
       "</table>\n",
       "<p>7 rows × 27 columns</p>\n",
       "</div>"
      ],
      "text/plain": [
       "  SEASON_ID  Player_ID     Game_ID     GAME_DATE      MATCHUP WL  MIN  FGM  \\\n",
       "0     22003        937  0020300691  FEB 02, 2004    CHI @ SEA  L    8    1   \n",
       "1     22003        937  0020300678  JAN 31, 2004    CHI @ POR  L   35    6   \n",
       "2     22003        937  0020300668  JAN 30, 2004    CHI @ GSW  L    7    0   \n",
       "3     22003        937  0020300653  JAN 28, 2004    CHI @ DEN  L   10    1   \n",
       "4     22003        937  0020300644  JAN 27, 2004    CHI @ LAC  L    8    0   \n",
       "5     22003        937  0020300616  JAN 23, 2004  CHI vs. DAL  L    8    2   \n",
       "6     22003        937  0020300597  JAN 21, 2004    CHI @ ATL  L   16    2   \n",
       "\n",
       "   FGA  FG_PCT  ...  DREB  REB  AST  STL  BLK  TOV  PF  PTS  PLUS_MINUS  \\\n",
       "0    3   0.333  ...     0    1    3    0    0    0   0    2        -7.0   \n",
       "1   13   0.462  ...     2    7    4    1    1    2   0   17        -9.0   \n",
       "2    1   0.000  ...     0    1    0    0    0    0   0    0        -7.0   \n",
       "3    2   0.500  ...     0    0    2    0    0    0   2    2        -7.0   \n",
       "4    2   0.000  ...     2    2    1    1    0    0   2    0        -3.0   \n",
       "5    6   0.333  ...     2    2    0    0    1    1   2    4        -9.0   \n",
       "6    4   0.500  ...     1    2    1    0    0    0   1    6         2.0   \n",
       "\n",
       "   VIDEO_AVAILABLE  \n",
       "0                0  \n",
       "1                0  \n",
       "2                0  \n",
       "3                0  \n",
       "4                0  \n",
       "5                0  \n",
       "6                0  \n",
       "\n",
       "[7 rows x 27 columns]"
      ]
     },
     "execution_count": 16,
     "metadata": {},
     "output_type": "execute_result"
    }
   ],
   "source": [
    "player_gmlog_car_df.head(7)"
   ]
  },
  {
   "cell_type": "markdown",
   "metadata": {},
   "source": [
    "##### ***Creation of a OPP column (the opponent) and the W (win)***"
   ]
  },
  {
   "cell_type": "code",
   "execution_count": 17,
   "metadata": {},
   "outputs": [],
   "source": [
    "opponent = [o[-3:] for o in player_gmlog_car_df[\"MATCHUP\"]]\n",
    "player_gmlog_car_df.insert(5, \"OPP\", opponent, False)\n",
    "\n",
    "player_gmlog_car_df['WIN'] = player_gmlog_car_df['WL'].apply(lambda x: 1 if x==\"W\"  else 0)\n",
    "\n",
    "player_gmlog_car_df.drop(labels=\"WL\", axis=1, inplace=True)"
   ]
  },
  {
   "cell_type": "markdown",
   "metadata": {},
   "source": [
    "##### ***String to date format conversion***"
   ]
  },
  {
   "cell_type": "code",
   "execution_count": null,
   "metadata": {},
   "outputs": [],
   "source": [
    "player_gmlog_car_df['GAME_DATE'] = player_gmlog_car_df['GAME_DATE'].apply(lambda x: dt.datetime.strptime(x, '%b %d, %Y'))\n",
    "        #player_gmlog_car_df['DAYS'] = (dt.datetime.strptime(player_gmlog_car_df['GAME_DATE'], '%b %d, %Y') - \n",
    "                                       #dt.datetime.strptime(player_gmlog_car_df.loc[i-1, 'GAME_DATE'])).days\n",
    "       "
   ]
  },
  {
   "cell_type": "markdown",
   "metadata": {},
   "source": [
    "#### **Insertion of a DAYS column: days between games**"
   ]
  },
  {
   "cell_type": "code",
   "execution_count": null,
   "metadata": {},
   "outputs": [],
   "source": [
    "d = []\n",
    "for i in np.arange(player_gmlog_car_df.shape[0]):\n",
    "    if i>0:\n",
    "        d.append((player_gmlog_car_df.loc[i-1, 'GAME_DATE'] - player_gmlog_car_df.loc[i, 'GAME_DATE']).days)\n",
    "    else: d.append(0)\n",
    "player_gmlog_car_df.insert(4, \"DAYS\", d)"
   ]
  },
  {
   "cell_type": "code",
   "execution_count": null,
   "metadata": {},
   "outputs": [],
   "source": [
    "player_gmlog_car_df.tail(4)"
   ]
  },
  {
   "cell_type": "markdown",
   "metadata": {},
   "source": [
    "##### ***Winning percentage of a specific player over his career***"
   ]
  },
  {
   "cell_type": "code",
   "execution_count": null,
   "metadata": {},
   "outputs": [],
   "source": [
    "win_pct = player_gmlog_car_df.WIN.sum() / player_gmlog_car_df.shape[0]\n",
    "print(\"The winning percentage of **{}** is: {:.2f}.\".format(PlayerNameSelected, win_pct))"
   ]
  },
  {
   "cell_type": "code",
   "execution_count": null,
   "metadata": {},
   "outputs": [],
   "source": [
    "player_gmlog_car_df.head(3)"
   ]
  },
  {
   "cell_type": "markdown",
   "metadata": {},
   "source": [
    "#### ***Points, Rebounds, Assists and Field Goals percentage that a player averages againt a specific opponent***"
   ]
  },
  {
   "cell_type": "code",
   "execution_count": null,
   "metadata": {},
   "outputs": [],
   "source": [
    "player_ptsAvg_vs_opp = player_gmlog_car_df.loc[player_gmlog_car_df[\"OPP\"]==OpponentSelected][[\"PTS\", \"REB\", \"AST\", \"FG_PCT\"]].mean()\n",
    "gm_played_against = player_gmlog_car_df.loc[player_gmlog_car_df[\"OPP\"]==OpponentSelected].shape[0]\n",
    "\n",
    "print(\"{} averages {:.1f} pts, {:.1f} reb and {:.1f} ast on {:.1f} % shooting against the {} in {} games.\".format(\n",
    "    PlayerNameSelected, player_ptsAvg_vs_opp[0], player_ptsAvg_vs_opp[1], player_ptsAvg_vs_opp[2], \n",
    "     player_ptsAvg_vs_opp[3]*100, OpponentSelected, gm_played_against))"
   ]
  },
  {
   "cell_type": "markdown",
   "metadata": {},
   "source": [
    "#### ***Points, Rebounds, Assists and Field Goals percentage that a player averages for his career***"
   ]
  },
  {
   "cell_type": "code",
   "execution_count": null,
   "metadata": {},
   "outputs": [],
   "source": [
    "player_Avg_career = player_gmlog_car_df[[\"PTS\", \"REB\", \"AST\", \"FG_PCT\"]].mean()\n",
    "total_gm_played = player_gmlog_car_df.shape[0]\n",
    "\n",
    "print(\"{} averages {:.1f} pts, {:.1f} reb and {:.1f} ast on {:.1f} % shooting for his career in {} games.\".format(\n",
    "    PlayerNameSelected, player_Avg_career[0], player_Avg_career[1], player_Avg_career[2], \n",
    "    player_Avg_career[3]*100, total_gm_played))"
   ]
  },
  {
   "cell_type": "markdown",
   "metadata": {},
   "source": [
    "#### **The DataFrame for each season separately**"
   ]
  },
  {
   "cell_type": "code",
   "execution_count": null,
   "metadata": {},
   "outputs": [],
   "source": [
    "sid_list = [sid for sid in player_gmlog_car_df.SEASON_ID.unique()]\n",
    "#print(sid_list)"
   ]
  },
  {
   "cell_type": "code",
   "execution_count": null,
   "metadata": {},
   "outputs": [],
   "source": [
    "season = {}\n",
    "for elem in sid_list:\n",
    "    season[\"df_{}\".format(elem[-4:])] = player_gmlog_car_df[player_gmlog_car_df[\"SEASON_ID\"]==elem]"
   ]
  },
  {
   "cell_type": "code",
   "execution_count": null,
   "metadata": {},
   "outputs": [],
   "source": [
    "season[\"df_{}\".format(SeasonSelected)].describe()"
   ]
  },
  {
   "cell_type": "code",
   "execution_count": null,
   "metadata": {},
   "outputs": [],
   "source": [
    "season[\"df_{}\".format(SeasonSelected)].plot.scatter(x=\"FGA\", y=\"PTS\", c=\"FG_PCT\", s=70, cmap=\"Blues\")\n",
    "plt.xlabel(\"FGA\")\n",
    "plt.title(\"The number of points scored / Efficiency\", fontsize=13, fontweight=\"bold\", color=\"blue\")\n",
    "plt.xlabel(\"FGA\", fontweight=\"bold\")"
   ]
  },
  {
   "cell_type": "markdown",
   "metadata": {},
   "source": [
    "#### ***The average of WIN, DAYS, PTS, REB, AST, BLK, STL and FG_PCT per game related to the number of days between the game***"
   ]
  },
  {
   "cell_type": "code",
   "execution_count": null,
   "metadata": {},
   "outputs": [],
   "source": [
    "player_gmlog_car_df[[\"WIN\", \"DAYS\", \"PTS\", \"REB\", \"AST\", \"BLK\", \"STL\", \"FG_PCT\"]].loc[player_gmlog_car_df[\"DAYS\"] < 10].groupby(\"DAYS\").mean()"
   ]
  },
  {
   "cell_type": "markdown",
   "metadata": {},
   "source": [
    "#### ***Save the new dataframe of the selected player career**"
   ]
  },
  {
   "cell_type": "code",
   "execution_count": null,
   "metadata": {},
   "outputs": [],
   "source": [
    "player_gmlog_car_df.to_csv('{}_career_stats.csv'.format(PlayerNameSelected), index = False)"
   ]
  },
  {
   "cell_type": "markdown",
   "metadata": {
    "id": "3FSrVw1vI7GM"
   },
   "source": [
    "## **TEAMS**"
   ]
  },
  {
   "cell_type": "code",
   "execution_count": null,
   "metadata": {
    "id": "iiwFXLy1ALPF"
   },
   "outputs": [],
   "source": [
    "teams_df = pd.DataFrame(teams.get_teams())\n",
    "#print(teams_df.columns)"
   ]
  },
  {
   "cell_type": "markdown",
   "metadata": {
    "id": "G44vVU5pDB6F"
   },
   "source": [
    "##### **Find the id of a team**"
   ]
  },
  {
   "cell_type": "code",
   "execution_count": null,
   "metadata": {
    "id": "nRrLblR1Cs68"
   },
   "outputs": [],
   "source": [
    "team_id = teams_df[teams_df[\"full_name\"]==TeamNameSelected].iloc[0, 0]\n",
    "#print(team_id)"
   ]
  },
  {
   "cell_type": "markdown",
   "metadata": {
    "id": "zp6g_WxOb5OW"
   },
   "source": [
    "### **The foundation year of every NBA Teams**"
   ]
  },
  {
   "cell_type": "code",
   "execution_count": null,
   "metadata": {
    "id": "67wi8viScFov"
   },
   "outputs": [],
   "source": [
    "year_found_df = teams_df[['full_name', 'nickname', 'state', 'year_founded']]\n",
    "#year_found_df.sort_values('year_founded')"
   ]
  },
  {
   "cell_type": "code",
   "execution_count": null,
   "metadata": {
    "id": "-RipNLmy7GQ2"
   },
   "outputs": [],
   "source": [
    "num_year_ex = 2021 - teams_df['year_founded']"
   ]
  },
  {
   "cell_type": "code",
   "execution_count": null,
   "metadata": {
    "id": "LvXnV4Lk8YHJ"
   },
   "outputs": [],
   "source": [
    "teams_df.insert(4, \"num_year_ex\", num_year_ex, True)"
   ]
  },
  {
   "cell_type": "code",
   "execution_count": null,
   "metadata": {
    "id": "493pD1wvvcqX"
   },
   "outputs": [],
   "source": [
    "teams_df.num_year_ex.sort_values()\n",
    "teams_df.plot.scatter(x='nickname', y='year_founded', s=teams_df[\"num_year_ex\"] * 3)"
   ]
  },
  {
   "cell_type": "code",
   "execution_count": null,
   "metadata": {},
   "outputs": [],
   "source": [
    "teams_df.plot.barh(x=\"nickname\", y=\"num_year_ex\", color=\"red\")\n",
    "plt.xlabel(\"years_founded\")"
   ]
  },
  {
   "cell_type": "code",
   "execution_count": null,
   "metadata": {},
   "outputs": [],
   "source": []
  }
 ],
 "metadata": {
  "colab": {
   "collapsed_sections": [],
   "name": "nba_api.ipynb",
   "provenance": []
  },
  "kernelspec": {
   "display_name": "Python 3",
   "language": "python",
   "name": "python3"
  },
  "language_info": {
   "codemirror_mode": {
    "name": "ipython",
    "version": 3
   },
   "file_extension": ".py",
   "mimetype": "text/x-python",
   "name": "python",
   "nbconvert_exporter": "python",
   "pygments_lexer": "ipython3",
   "version": "3.7.3"
  }
 },
 "nbformat": 4,
 "nbformat_minor": 4
}
