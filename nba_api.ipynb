{
 "cells": [
  {
   "cell_type": "code",
   "execution_count": null,
   "metadata": {
    "colab": {
     "base_uri": "https://localhost:8080/"
    },
    "id": "WuVSgRUJTiUH",
    "outputId": "91ae57ff-7799-40c1-9928-381fe33d8d64"
   },
   "outputs": [],
   "source": []
  },
  {
   "cell_type": "markdown",
   "metadata": {},
   "source": [
    "### **Modules Importation**"
   ]
  },
  {
   "cell_type": "code",
   "execution_count": 1,
   "metadata": {
    "id": "W1QlUmRRV8v5"
   },
   "outputs": [],
   "source": [
    "import pandas as pd\n",
    "import matplotlib.pyplot as plt\n",
    "import numpy as np\n",
    "\n",
    "from nba_api.stats.static import players\n",
    "\n",
    "from nba_api.stats.static import teams\n",
    "from nba_api.stats.endpoints import teamgamelog"
   ]
  },
  {
   "cell_type": "markdown",
   "metadata": {},
   "source": [
    "### ***CONSTANT***"
   ]
  },
  {
   "cell_type": "code",
   "execution_count": 2,
   "metadata": {},
   "outputs": [],
   "source": [
    "PlayerNameSelected = \"Kawhi Leonard\"\n",
    "TeamNameSelected = \"Los Angeles Clippers\"\n",
    "SeasonSelected = \"2019\""
   ]
  },
  {
   "cell_type": "code",
   "execution_count": 3,
   "metadata": {
    "id": "XkIXmnZdWFvc"
   },
   "outputs": [],
   "source": [
    "active_players_df = pd.DataFrame(players.get_players())"
   ]
  },
  {
   "cell_type": "code",
   "execution_count": 4,
   "metadata": {
    "colab": {
     "base_uri": "https://localhost:8080/"
    },
    "id": "l5aMLPYmZwY5",
    "outputId": "ae38ee29-1541-4687-f63e-f10e503303a0"
   },
   "outputs": [
    {
     "data": {
      "text/plain": [
       "Index(['id', 'full_name', 'first_name', 'last_name', 'is_active'], dtype='object')"
      ]
     },
     "execution_count": 4,
     "metadata": {},
     "output_type": "execute_result"
    }
   ],
   "source": [
    "active_players_df.columns"
   ]
  },
  {
   "cell_type": "markdown",
   "metadata": {
    "id": "h6lFfJtLDQzp"
   },
   "source": [
    "##### **Find the id of a player**"
   ]
  },
  {
   "cell_type": "code",
   "execution_count": 5,
   "metadata": {
    "colab": {
     "base_uri": "https://localhost:8080/"
    },
    "id": "YOVphdUObNl5",
    "outputId": "528ac434-7f6b-4d1b-b9bb-4ccc95c5ff61"
   },
   "outputs": [
    {
     "data": {
      "text/plain": [
       "202695"
      ]
     },
     "execution_count": 5,
     "metadata": {},
     "output_type": "execute_result"
    }
   ],
   "source": [
    "player_id = active_players_df[active_players_df.full_name == PlayerNameSelected].iloc[0, 0]\n",
    "player_id"
   ]
  },
  {
   "cell_type": "markdown",
   "metadata": {
    "id": "AaP8FT34GY-2"
   },
   "source": [
    "##### _**Gamelog of a player**_\n"
   ]
  },
  {
   "cell_type": "code",
   "execution_count": 6,
   "metadata": {
    "id": "xfIdQFqsoUnH"
   },
   "outputs": [],
   "source": [
    "import urllib3, socket\n",
    "from urllib3.connection import HTTPConnection\n",
    "    \n",
    "HTTPConnection.default_socket_options = ( \n",
    "    HTTPConnection.default_socket_options + [\n",
    "    (socket.SOL_SOCKET, socket.SO_SNDBUF, 2000000), #1MB in byte\n",
    "    (socket.SOL_SOCKET, socket.SO_RCVBUF, 2000000)\n",
    "])"
   ]
  },
  {
   "cell_type": "code",
   "execution_count": 7,
   "metadata": {
    "id": "44Wb39lBGvlv"
   },
   "outputs": [],
   "source": [
    "from nba_api.stats.endpoints import playergamelog"
   ]
  },
  {
   "cell_type": "code",
   "execution_count": 8,
   "metadata": {
    "colab": {
     "base_uri": "https://localhost:8080/",
     "height": 438
    },
    "id": "huPQBMZsG_fV",
    "outputId": "1472e53a-26e2-46dc-ac3f-67e849ae8e41"
   },
   "outputs": [],
   "source": [
    "player_sheet = playergamelog.PlayerGameLog(player_id, season=SeasonSelected)"
   ]
  },
  {
   "cell_type": "code",
   "execution_count": 9,
   "metadata": {},
   "outputs": [],
   "source": [
    "player_gamelog_df = player_sheet.get_data_frames()"
   ]
  },
  {
   "cell_type": "code",
   "execution_count": 10,
   "metadata": {},
   "outputs": [],
   "source": [
    "#Select the ith dataframe \n",
    "player_gamelog_select_df = player_gamelog_df[0]"
   ]
  },
  {
   "cell_type": "code",
   "execution_count": 11,
   "metadata": {},
   "outputs": [
    {
     "data": {
      "text/html": [
       "<div>\n",
       "<style scoped>\n",
       "    .dataframe tbody tr th:only-of-type {\n",
       "        vertical-align: middle;\n",
       "    }\n",
       "\n",
       "    .dataframe tbody tr th {\n",
       "        vertical-align: top;\n",
       "    }\n",
       "\n",
       "    .dataframe thead th {\n",
       "        text-align: right;\n",
       "    }\n",
       "</style>\n",
       "<table border=\"1\" class=\"dataframe\">\n",
       "  <thead>\n",
       "    <tr style=\"text-align: right;\">\n",
       "      <th></th>\n",
       "      <th>Player_ID</th>\n",
       "      <th>MIN</th>\n",
       "      <th>FGM</th>\n",
       "      <th>FGA</th>\n",
       "      <th>FG_PCT</th>\n",
       "      <th>FG3M</th>\n",
       "      <th>FG3A</th>\n",
       "      <th>FG3_PCT</th>\n",
       "      <th>FTM</th>\n",
       "      <th>FTA</th>\n",
       "      <th>...</th>\n",
       "      <th>DREB</th>\n",
       "      <th>REB</th>\n",
       "      <th>AST</th>\n",
       "      <th>STL</th>\n",
       "      <th>BLK</th>\n",
       "      <th>TOV</th>\n",
       "      <th>PF</th>\n",
       "      <th>PTS</th>\n",
       "      <th>PLUS_MINUS</th>\n",
       "      <th>VIDEO_AVAILABLE</th>\n",
       "    </tr>\n",
       "  </thead>\n",
       "  <tbody>\n",
       "    <tr>\n",
       "      <th>count</th>\n",
       "      <td>57.0</td>\n",
       "      <td>57.000000</td>\n",
       "      <td>57.000000</td>\n",
       "      <td>57.000000</td>\n",
       "      <td>57.000000</td>\n",
       "      <td>57.000000</td>\n",
       "      <td>57.000000</td>\n",
       "      <td>57.000000</td>\n",
       "      <td>57.000000</td>\n",
       "      <td>57.000000</td>\n",
       "      <td>...</td>\n",
       "      <td>57.000000</td>\n",
       "      <td>57.000000</td>\n",
       "      <td>57.000000</td>\n",
       "      <td>57.000000</td>\n",
       "      <td>57.000000</td>\n",
       "      <td>57.000000</td>\n",
       "      <td>57.000000</td>\n",
       "      <td>57.000000</td>\n",
       "      <td>57.000000</td>\n",
       "      <td>57.0</td>\n",
       "    </tr>\n",
       "    <tr>\n",
       "      <th>mean</th>\n",
       "      <td>202695.0</td>\n",
       "      <td>32.491228</td>\n",
       "      <td>9.333333</td>\n",
       "      <td>19.877193</td>\n",
       "      <td>0.471439</td>\n",
       "      <td>2.157895</td>\n",
       "      <td>5.701754</td>\n",
       "      <td>0.381123</td>\n",
       "      <td>6.245614</td>\n",
       "      <td>7.052632</td>\n",
       "      <td>...</td>\n",
       "      <td>6.105263</td>\n",
       "      <td>7.052632</td>\n",
       "      <td>4.912281</td>\n",
       "      <td>1.807018</td>\n",
       "      <td>0.578947</td>\n",
       "      <td>2.614035</td>\n",
       "      <td>1.982456</td>\n",
       "      <td>27.070175</td>\n",
       "      <td>8.385965</td>\n",
       "      <td>1.0</td>\n",
       "    </tr>\n",
       "    <tr>\n",
       "      <th>std</th>\n",
       "      <td>0.0</td>\n",
       "      <td>4.942971</td>\n",
       "      <td>2.714599</td>\n",
       "      <td>4.480394</td>\n",
       "      <td>0.108615</td>\n",
       "      <td>1.306433</td>\n",
       "      <td>2.187341</td>\n",
       "      <td>0.196284</td>\n",
       "      <td>3.241917</td>\n",
       "      <td>3.450782</td>\n",
       "      <td>...</td>\n",
       "      <td>2.575185</td>\n",
       "      <td>3.055563</td>\n",
       "      <td>2.269996</td>\n",
       "      <td>1.109031</td>\n",
       "      <td>0.777987</td>\n",
       "      <td>1.887500</td>\n",
       "      <td>1.356087</td>\n",
       "      <td>6.966398</td>\n",
       "      <td>14.702714</td>\n",
       "      <td>0.0</td>\n",
       "    </tr>\n",
       "    <tr>\n",
       "      <th>min</th>\n",
       "      <td>202695.0</td>\n",
       "      <td>21.000000</td>\n",
       "      <td>2.000000</td>\n",
       "      <td>11.000000</td>\n",
       "      <td>0.182000</td>\n",
       "      <td>0.000000</td>\n",
       "      <td>1.000000</td>\n",
       "      <td>0.000000</td>\n",
       "      <td>0.000000</td>\n",
       "      <td>0.000000</td>\n",
       "      <td>...</td>\n",
       "      <td>2.000000</td>\n",
       "      <td>2.000000</td>\n",
       "      <td>0.000000</td>\n",
       "      <td>0.000000</td>\n",
       "      <td>0.000000</td>\n",
       "      <td>0.000000</td>\n",
       "      <td>0.000000</td>\n",
       "      <td>11.000000</td>\n",
       "      <td>-23.000000</td>\n",
       "      <td>1.0</td>\n",
       "    </tr>\n",
       "    <tr>\n",
       "      <th>25%</th>\n",
       "      <td>202695.0</td>\n",
       "      <td>28.000000</td>\n",
       "      <td>8.000000</td>\n",
       "      <td>16.000000</td>\n",
       "      <td>0.409000</td>\n",
       "      <td>1.000000</td>\n",
       "      <td>4.000000</td>\n",
       "      <td>0.250000</td>\n",
       "      <td>4.000000</td>\n",
       "      <td>5.000000</td>\n",
       "      <td>...</td>\n",
       "      <td>4.000000</td>\n",
       "      <td>5.000000</td>\n",
       "      <td>3.000000</td>\n",
       "      <td>1.000000</td>\n",
       "      <td>0.000000</td>\n",
       "      <td>1.000000</td>\n",
       "      <td>1.000000</td>\n",
       "      <td>24.000000</td>\n",
       "      <td>-2.000000</td>\n",
       "      <td>1.0</td>\n",
       "    </tr>\n",
       "    <tr>\n",
       "      <th>50%</th>\n",
       "      <td>202695.0</td>\n",
       "      <td>33.000000</td>\n",
       "      <td>9.000000</td>\n",
       "      <td>20.000000</td>\n",
       "      <td>0.476000</td>\n",
       "      <td>2.000000</td>\n",
       "      <td>6.000000</td>\n",
       "      <td>0.400000</td>\n",
       "      <td>6.000000</td>\n",
       "      <td>7.000000</td>\n",
       "      <td>...</td>\n",
       "      <td>6.000000</td>\n",
       "      <td>6.000000</td>\n",
       "      <td>5.000000</td>\n",
       "      <td>2.000000</td>\n",
       "      <td>0.000000</td>\n",
       "      <td>2.000000</td>\n",
       "      <td>2.000000</td>\n",
       "      <td>27.000000</td>\n",
       "      <td>12.000000</td>\n",
       "      <td>1.0</td>\n",
       "    </tr>\n",
       "    <tr>\n",
       "      <th>75%</th>\n",
       "      <td>202695.0</td>\n",
       "      <td>36.000000</td>\n",
       "      <td>11.000000</td>\n",
       "      <td>23.000000</td>\n",
       "      <td>0.550000</td>\n",
       "      <td>3.000000</td>\n",
       "      <td>7.000000</td>\n",
       "      <td>0.500000</td>\n",
       "      <td>8.000000</td>\n",
       "      <td>9.000000</td>\n",
       "      <td>...</td>\n",
       "      <td>8.000000</td>\n",
       "      <td>9.000000</td>\n",
       "      <td>6.000000</td>\n",
       "      <td>2.000000</td>\n",
       "      <td>1.000000</td>\n",
       "      <td>3.000000</td>\n",
       "      <td>3.000000</td>\n",
       "      <td>31.000000</td>\n",
       "      <td>16.000000</td>\n",
       "      <td>1.0</td>\n",
       "    </tr>\n",
       "    <tr>\n",
       "      <th>max</th>\n",
       "      <td>202695.0</td>\n",
       "      <td>46.000000</td>\n",
       "      <td>15.000000</td>\n",
       "      <td>32.000000</td>\n",
       "      <td>0.688000</td>\n",
       "      <td>6.000000</td>\n",
       "      <td>10.000000</td>\n",
       "      <td>1.000000</td>\n",
       "      <td>19.000000</td>\n",
       "      <td>19.000000</td>\n",
       "      <td>...</td>\n",
       "      <td>12.000000</td>\n",
       "      <td>14.000000</td>\n",
       "      <td>10.000000</td>\n",
       "      <td>5.000000</td>\n",
       "      <td>3.000000</td>\n",
       "      <td>9.000000</td>\n",
       "      <td>5.000000</td>\n",
       "      <td>43.000000</td>\n",
       "      <td>39.000000</td>\n",
       "      <td>1.0</td>\n",
       "    </tr>\n",
       "  </tbody>\n",
       "</table>\n",
       "<p>8 rows × 22 columns</p>\n",
       "</div>"
      ],
      "text/plain": [
       "       Player_ID        MIN        FGM        FGA     FG_PCT       FG3M  \\\n",
       "count       57.0  57.000000  57.000000  57.000000  57.000000  57.000000   \n",
       "mean    202695.0  32.491228   9.333333  19.877193   0.471439   2.157895   \n",
       "std          0.0   4.942971   2.714599   4.480394   0.108615   1.306433   \n",
       "min     202695.0  21.000000   2.000000  11.000000   0.182000   0.000000   \n",
       "25%     202695.0  28.000000   8.000000  16.000000   0.409000   1.000000   \n",
       "50%     202695.0  33.000000   9.000000  20.000000   0.476000   2.000000   \n",
       "75%     202695.0  36.000000  11.000000  23.000000   0.550000   3.000000   \n",
       "max     202695.0  46.000000  15.000000  32.000000   0.688000   6.000000   \n",
       "\n",
       "            FG3A    FG3_PCT        FTM        FTA  ...       DREB        REB  \\\n",
       "count  57.000000  57.000000  57.000000  57.000000  ...  57.000000  57.000000   \n",
       "mean    5.701754   0.381123   6.245614   7.052632  ...   6.105263   7.052632   \n",
       "std     2.187341   0.196284   3.241917   3.450782  ...   2.575185   3.055563   \n",
       "min     1.000000   0.000000   0.000000   0.000000  ...   2.000000   2.000000   \n",
       "25%     4.000000   0.250000   4.000000   5.000000  ...   4.000000   5.000000   \n",
       "50%     6.000000   0.400000   6.000000   7.000000  ...   6.000000   6.000000   \n",
       "75%     7.000000   0.500000   8.000000   9.000000  ...   8.000000   9.000000   \n",
       "max    10.000000   1.000000  19.000000  19.000000  ...  12.000000  14.000000   \n",
       "\n",
       "             AST        STL        BLK        TOV         PF        PTS  \\\n",
       "count  57.000000  57.000000  57.000000  57.000000  57.000000  57.000000   \n",
       "mean    4.912281   1.807018   0.578947   2.614035   1.982456  27.070175   \n",
       "std     2.269996   1.109031   0.777987   1.887500   1.356087   6.966398   \n",
       "min     0.000000   0.000000   0.000000   0.000000   0.000000  11.000000   \n",
       "25%     3.000000   1.000000   0.000000   1.000000   1.000000  24.000000   \n",
       "50%     5.000000   2.000000   0.000000   2.000000   2.000000  27.000000   \n",
       "75%     6.000000   2.000000   1.000000   3.000000   3.000000  31.000000   \n",
       "max    10.000000   5.000000   3.000000   9.000000   5.000000  43.000000   \n",
       "\n",
       "       PLUS_MINUS  VIDEO_AVAILABLE  \n",
       "count   57.000000             57.0  \n",
       "mean     8.385965              1.0  \n",
       "std     14.702714              0.0  \n",
       "min    -23.000000              1.0  \n",
       "25%     -2.000000              1.0  \n",
       "50%     12.000000              1.0  \n",
       "75%     16.000000              1.0  \n",
       "max     39.000000              1.0  \n",
       "\n",
       "[8 rows x 22 columns]"
      ]
     },
     "execution_count": 11,
     "metadata": {},
     "output_type": "execute_result"
    }
   ],
   "source": [
    "player_gamelog_select_df.describe()"
   ]
  },
  {
   "cell_type": "code",
   "execution_count": 12,
   "metadata": {},
   "outputs": [
    {
     "data": {
      "text/plain": [
       "<AxesSubplot:ylabel='Frequency'>"
      ]
     },
     "execution_count": 12,
     "metadata": {},
     "output_type": "execute_result"
    },
    {
     "data": {
      "image/png": "[encoded data removed]",
      "text/plain": [
       "<Figure size 432x288 with 1 Axes>"
      ]
     },
     "metadata": {
      "needs_background": "light"
     },
     "output_type": "display_data"
    }
   ],
   "source": [
    "player_gamelog_select_df.plot.hist(y=\"REB\", bins=20, color=\"red\")"
   ]
  },
  {
   "cell_type": "markdown",
   "metadata": {},
   "source": [
    "##### **Gamelog for a career**"
   ]
  },
  {
   "cell_type": "code",
   "execution_count": 13,
   "metadata": {},
   "outputs": [],
   "source": [
    "from nba_api.stats.library import parameters"
   ]
  },
  {
   "cell_type": "code",
   "execution_count": 14,
   "metadata": {},
   "outputs": [],
   "source": [
    "ALL = parameters.SeasonAll().all"
   ]
  },
  {
   "cell_type": "code",
   "execution_count": 15,
   "metadata": {},
   "outputs": [],
   "source": [
    "player_gmlog_car = playergamelog.PlayerGameLog(player_id, season=ALL)"
   ]
  },
  {
   "cell_type": "code",
   "execution_count": 16,
   "metadata": {},
   "outputs": [],
   "source": [
    "player_gmlog_car_df = player_gmlog_car.get_data_frames()[0]"
   ]
  },
  {
   "cell_type": "code",
   "execution_count": 17,
   "metadata": {},
   "outputs": [
    {
     "data": {
      "text/html": [
       "<div>\n",
       "<style scoped>\n",
       "    .dataframe tbody tr th:only-of-type {\n",
       "        vertical-align: middle;\n",
       "    }\n",
       "\n",
       "    .dataframe tbody tr th {\n",
       "        vertical-align: top;\n",
       "    }\n",
       "\n",
       "    .dataframe thead th {\n",
       "        text-align: right;\n",
       "    }\n",
       "</style>\n",
       "<table border=\"1\" class=\"dataframe\">\n",
       "  <thead>\n",
       "    <tr style=\"text-align: right;\">\n",
       "      <th></th>\n",
       "      <th>SEASON_ID</th>\n",
       "      <th>Player_ID</th>\n",
       "      <th>Game_ID</th>\n",
       "      <th>GAME_DATE</th>\n",
       "      <th>MATCHUP</th>\n",
       "      <th>WL</th>\n",
       "      <th>MIN</th>\n",
       "      <th>FGM</th>\n",
       "      <th>FGA</th>\n",
       "      <th>FG_PCT</th>\n",
       "      <th>...</th>\n",
       "      <th>DREB</th>\n",
       "      <th>REB</th>\n",
       "      <th>AST</th>\n",
       "      <th>STL</th>\n",
       "      <th>BLK</th>\n",
       "      <th>TOV</th>\n",
       "      <th>PF</th>\n",
       "      <th>PTS</th>\n",
       "      <th>PLUS_MINUS</th>\n",
       "      <th>VIDEO_AVAILABLE</th>\n",
       "    </tr>\n",
       "  </thead>\n",
       "  <tbody>\n",
       "    <tr>\n",
       "      <th>0</th>\n",
       "      <td>22020</td>\n",
       "      <td>202695</td>\n",
       "      <td>0022001047</td>\n",
       "      <td>MAY 13, 2021</td>\n",
       "      <td>LAC @ CHA</td>\n",
       "      <td>W</td>\n",
       "      <td>31</td>\n",
       "      <td>5</td>\n",
       "      <td>9</td>\n",
       "      <td>0.556</td>\n",
       "      <td>...</td>\n",
       "      <td>3</td>\n",
       "      <td>3</td>\n",
       "      <td>9</td>\n",
       "      <td>1</td>\n",
       "      <td>0</td>\n",
       "      <td>3</td>\n",
       "      <td>1</td>\n",
       "      <td>16</td>\n",
       "      <td>15</td>\n",
       "      <td>1</td>\n",
       "    </tr>\n",
       "    <tr>\n",
       "      <th>1</th>\n",
       "      <td>22020</td>\n",
       "      <td>202695</td>\n",
       "      <td>0022001034</td>\n",
       "      <td>MAY 11, 2021</td>\n",
       "      <td>LAC @ TOR</td>\n",
       "      <td>W</td>\n",
       "      <td>30</td>\n",
       "      <td>6</td>\n",
       "      <td>10</td>\n",
       "      <td>0.600</td>\n",
       "      <td>...</td>\n",
       "      <td>7</td>\n",
       "      <td>7</td>\n",
       "      <td>5</td>\n",
       "      <td>2</td>\n",
       "      <td>0</td>\n",
       "      <td>1</td>\n",
       "      <td>2</td>\n",
       "      <td>20</td>\n",
       "      <td>11</td>\n",
       "      <td>1</td>\n",
       "    </tr>\n",
       "    <tr>\n",
       "      <th>2</th>\n",
       "      <td>22020</td>\n",
       "      <td>202695</td>\n",
       "      <td>0022001019</td>\n",
       "      <td>MAY 09, 2021</td>\n",
       "      <td>LAC vs. NYK</td>\n",
       "      <td>L</td>\n",
       "      <td>36</td>\n",
       "      <td>9</td>\n",
       "      <td>26</td>\n",
       "      <td>0.346</td>\n",
       "      <td>...</td>\n",
       "      <td>4</td>\n",
       "      <td>4</td>\n",
       "      <td>3</td>\n",
       "      <td>1</td>\n",
       "      <td>0</td>\n",
       "      <td>1</td>\n",
       "      <td>0</td>\n",
       "      <td>29</td>\n",
       "      <td>-6</td>\n",
       "      <td>1</td>\n",
       "    </tr>\n",
       "    <tr>\n",
       "      <th>3</th>\n",
       "      <td>22020</td>\n",
       "      <td>202695</td>\n",
       "      <td>0022001002</td>\n",
       "      <td>MAY 06, 2021</td>\n",
       "      <td>LAC vs. LAL</td>\n",
       "      <td>W</td>\n",
       "      <td>30</td>\n",
       "      <td>4</td>\n",
       "      <td>9</td>\n",
       "      <td>0.444</td>\n",
       "      <td>...</td>\n",
       "      <td>7</td>\n",
       "      <td>8</td>\n",
       "      <td>6</td>\n",
       "      <td>0</td>\n",
       "      <td>1</td>\n",
       "      <td>5</td>\n",
       "      <td>2</td>\n",
       "      <td>15</td>\n",
       "      <td>21</td>\n",
       "      <td>1</td>\n",
       "    </tr>\n",
       "    <tr>\n",
       "      <th>4</th>\n",
       "      <td>22020</td>\n",
       "      <td>202695</td>\n",
       "      <td>0022000989</td>\n",
       "      <td>MAY 04, 2021</td>\n",
       "      <td>LAC vs. TOR</td>\n",
       "      <td>W</td>\n",
       "      <td>33</td>\n",
       "      <td>3</td>\n",
       "      <td>6</td>\n",
       "      <td>0.500</td>\n",
       "      <td>...</td>\n",
       "      <td>3</td>\n",
       "      <td>3</td>\n",
       "      <td>5</td>\n",
       "      <td>0</td>\n",
       "      <td>0</td>\n",
       "      <td>3</td>\n",
       "      <td>0</td>\n",
       "      <td>13</td>\n",
       "      <td>20</td>\n",
       "      <td>1</td>\n",
       "    </tr>\n",
       "    <tr>\n",
       "      <th>5</th>\n",
       "      <td>22020</td>\n",
       "      <td>202695</td>\n",
       "      <td>0022000966</td>\n",
       "      <td>MAY 01, 2021</td>\n",
       "      <td>LAC vs. DEN</td>\n",
       "      <td>L</td>\n",
       "      <td>30</td>\n",
       "      <td>7</td>\n",
       "      <td>12</td>\n",
       "      <td>0.583</td>\n",
       "      <td>...</td>\n",
       "      <td>3</td>\n",
       "      <td>5</td>\n",
       "      <td>6</td>\n",
       "      <td>0</td>\n",
       "      <td>0</td>\n",
       "      <td>1</td>\n",
       "      <td>1</td>\n",
       "      <td>16</td>\n",
       "      <td>-2</td>\n",
       "      <td>1</td>\n",
       "    </tr>\n",
       "    <tr>\n",
       "      <th>6</th>\n",
       "      <td>22020</td>\n",
       "      <td>202695</td>\n",
       "      <td>0022000867</td>\n",
       "      <td>APR 18, 2021</td>\n",
       "      <td>LAC vs. MIN</td>\n",
       "      <td>W</td>\n",
       "      <td>23</td>\n",
       "      <td>6</td>\n",
       "      <td>11</td>\n",
       "      <td>0.545</td>\n",
       "      <td>...</td>\n",
       "      <td>11</td>\n",
       "      <td>11</td>\n",
       "      <td>8</td>\n",
       "      <td>0</td>\n",
       "      <td>1</td>\n",
       "      <td>3</td>\n",
       "      <td>1</td>\n",
       "      <td>15</td>\n",
       "      <td>30</td>\n",
       "      <td>1</td>\n",
       "    </tr>\n",
       "  </tbody>\n",
       "</table>\n",
       "<p>7 rows × 27 columns</p>\n",
       "</div>"
      ],
      "text/plain": [
       "  SEASON_ID  Player_ID     Game_ID     GAME_DATE      MATCHUP WL  MIN  FGM  \\\n",
       "0     22020     202695  0022001047  MAY 13, 2021    LAC @ CHA  W   31    5   \n",
       "1     22020     202695  0022001034  MAY 11, 2021    LAC @ TOR  W   30    6   \n",
       "2     22020     202695  0022001019  MAY 09, 2021  LAC vs. NYK  L   36    9   \n",
       "3     22020     202695  0022001002  MAY 06, 2021  LAC vs. LAL  W   30    4   \n",
       "4     22020     202695  0022000989  MAY 04, 2021  LAC vs. TOR  W   33    3   \n",
       "5     22020     202695  0022000966  MAY 01, 2021  LAC vs. DEN  L   30    7   \n",
       "6     22020     202695  0022000867  APR 18, 2021  LAC vs. MIN  W   23    6   \n",
       "\n",
       "   FGA  FG_PCT  ...  DREB  REB  AST  STL  BLK  TOV  PF  PTS  PLUS_MINUS  \\\n",
       "0    9   0.556  ...     3    3    9    1    0    3   1   16          15   \n",
       "1   10   0.600  ...     7    7    5    2    0    1   2   20          11   \n",
       "2   26   0.346  ...     4    4    3    1    0    1   0   29          -6   \n",
       "3    9   0.444  ...     7    8    6    0    1    5   2   15          21   \n",
       "4    6   0.500  ...     3    3    5    0    0    3   0   13          20   \n",
       "5   12   0.583  ...     3    5    6    0    0    1   1   16          -2   \n",
       "6   11   0.545  ...    11   11    8    0    1    3   1   15          30   \n",
       "\n",
       "   VIDEO_AVAILABLE  \n",
       "0                1  \n",
       "1                1  \n",
       "2                1  \n",
       "3                1  \n",
       "4                1  \n",
       "5                1  \n",
       "6                1  \n",
       "\n",
       "[7 rows x 27 columns]"
      ]
     },
     "execution_count": 17,
     "metadata": {},
     "output_type": "execute_result"
    }
   ],
   "source": [
    "player_gmlog_car_df.head(7)"
   ]
  },
  {
   "cell_type": "markdown",
   "metadata": {},
   "source": [
    "#### Creation of a OPP column (the opponent) and the W (win)"
   ]
  },
  {
   "cell_type": "code",
   "execution_count": 18,
   "metadata": {},
   "outputs": [],
   "source": [
    "opponent = [o[-3:] for o in player_gmlog_car_df[\"MATCHUP\"]]\n",
    "player_gmlog_car_df.insert(5, \"OPP\", opponent, False)\n",
    "\n",
    "player_gmlog_car_df['WIN'] = player_gmlog_car_df['WL'].apply(lambda x: 1 if x==\"W\"  else 0)"
   ]
  },
  {
   "cell_type": "code",
   "execution_count": 19,
   "metadata": {},
   "outputs": [
    {
     "name": "stdout",
     "output_type": "stream",
     "text": [
      "The winning percentage of **Kawhi Leonard** is: 0.74.\n"
     ]
    }
   ],
   "source": [
    "win_pct = player_gmlog_car_df.WIN.sum() / player_gmlog_car_df.shape[0]\n",
    "print(\"The winning percentage of **{}** is: {:.2f}.\".format(PlayerNameSelected, win_pct))"
   ]
  },
  {
   "cell_type": "code",
   "execution_count": 20,
   "metadata": {},
   "outputs": [
    {
     "data": {
      "text/html": [
       "<div>\n",
       "<style scoped>\n",
       "    .dataframe tbody tr th:only-of-type {\n",
       "        vertical-align: middle;\n",
       "    }\n",
       "\n",
       "    .dataframe tbody tr th {\n",
       "        vertical-align: top;\n",
       "    }\n",
       "\n",
       "    .dataframe thead th {\n",
       "        text-align: right;\n",
       "    }\n",
       "</style>\n",
       "<table border=\"1\" class=\"dataframe\">\n",
       "  <thead>\n",
       "    <tr style=\"text-align: right;\">\n",
       "      <th></th>\n",
       "      <th>SEASON_ID</th>\n",
       "      <th>Player_ID</th>\n",
       "      <th>Game_ID</th>\n",
       "      <th>GAME_DATE</th>\n",
       "      <th>MATCHUP</th>\n",
       "      <th>OPP</th>\n",
       "      <th>WL</th>\n",
       "      <th>MIN</th>\n",
       "      <th>FGM</th>\n",
       "      <th>FGA</th>\n",
       "      <th>...</th>\n",
       "      <th>REB</th>\n",
       "      <th>AST</th>\n",
       "      <th>STL</th>\n",
       "      <th>BLK</th>\n",
       "      <th>TOV</th>\n",
       "      <th>PF</th>\n",
       "      <th>PTS</th>\n",
       "      <th>PLUS_MINUS</th>\n",
       "      <th>VIDEO_AVAILABLE</th>\n",
       "      <th>WIN</th>\n",
       "    </tr>\n",
       "  </thead>\n",
       "  <tbody>\n",
       "    <tr>\n",
       "      <th>0</th>\n",
       "      <td>22020</td>\n",
       "      <td>202695</td>\n",
       "      <td>0022001047</td>\n",
       "      <td>MAY 13, 2021</td>\n",
       "      <td>LAC @ CHA</td>\n",
       "      <td>CHA</td>\n",
       "      <td>W</td>\n",
       "      <td>31</td>\n",
       "      <td>5</td>\n",
       "      <td>9</td>\n",
       "      <td>...</td>\n",
       "      <td>3</td>\n",
       "      <td>9</td>\n",
       "      <td>1</td>\n",
       "      <td>0</td>\n",
       "      <td>3</td>\n",
       "      <td>1</td>\n",
       "      <td>16</td>\n",
       "      <td>15</td>\n",
       "      <td>1</td>\n",
       "      <td>1</td>\n",
       "    </tr>\n",
       "    <tr>\n",
       "      <th>1</th>\n",
       "      <td>22020</td>\n",
       "      <td>202695</td>\n",
       "      <td>0022001034</td>\n",
       "      <td>MAY 11, 2021</td>\n",
       "      <td>LAC @ TOR</td>\n",
       "      <td>TOR</td>\n",
       "      <td>W</td>\n",
       "      <td>30</td>\n",
       "      <td>6</td>\n",
       "      <td>10</td>\n",
       "      <td>...</td>\n",
       "      <td>7</td>\n",
       "      <td>5</td>\n",
       "      <td>2</td>\n",
       "      <td>0</td>\n",
       "      <td>1</td>\n",
       "      <td>2</td>\n",
       "      <td>20</td>\n",
       "      <td>11</td>\n",
       "      <td>1</td>\n",
       "      <td>1</td>\n",
       "    </tr>\n",
       "    <tr>\n",
       "      <th>2</th>\n",
       "      <td>22020</td>\n",
       "      <td>202695</td>\n",
       "      <td>0022001019</td>\n",
       "      <td>MAY 09, 2021</td>\n",
       "      <td>LAC vs. NYK</td>\n",
       "      <td>NYK</td>\n",
       "      <td>L</td>\n",
       "      <td>36</td>\n",
       "      <td>9</td>\n",
       "      <td>26</td>\n",
       "      <td>...</td>\n",
       "      <td>4</td>\n",
       "      <td>3</td>\n",
       "      <td>1</td>\n",
       "      <td>0</td>\n",
       "      <td>1</td>\n",
       "      <td>0</td>\n",
       "      <td>29</td>\n",
       "      <td>-6</td>\n",
       "      <td>1</td>\n",
       "      <td>0</td>\n",
       "    </tr>\n",
       "    <tr>\n",
       "      <th>3</th>\n",
       "      <td>22020</td>\n",
       "      <td>202695</td>\n",
       "      <td>0022001002</td>\n",
       "      <td>MAY 06, 2021</td>\n",
       "      <td>LAC vs. LAL</td>\n",
       "      <td>LAL</td>\n",
       "      <td>W</td>\n",
       "      <td>30</td>\n",
       "      <td>4</td>\n",
       "      <td>9</td>\n",
       "      <td>...</td>\n",
       "      <td>8</td>\n",
       "      <td>6</td>\n",
       "      <td>0</td>\n",
       "      <td>1</td>\n",
       "      <td>5</td>\n",
       "      <td>2</td>\n",
       "      <td>15</td>\n",
       "      <td>21</td>\n",
       "      <td>1</td>\n",
       "      <td>1</td>\n",
       "    </tr>\n",
       "    <tr>\n",
       "      <th>4</th>\n",
       "      <td>22020</td>\n",
       "      <td>202695</td>\n",
       "      <td>0022000989</td>\n",
       "      <td>MAY 04, 2021</td>\n",
       "      <td>LAC vs. TOR</td>\n",
       "      <td>TOR</td>\n",
       "      <td>W</td>\n",
       "      <td>33</td>\n",
       "      <td>3</td>\n",
       "      <td>6</td>\n",
       "      <td>...</td>\n",
       "      <td>3</td>\n",
       "      <td>5</td>\n",
       "      <td>0</td>\n",
       "      <td>0</td>\n",
       "      <td>3</td>\n",
       "      <td>0</td>\n",
       "      <td>13</td>\n",
       "      <td>20</td>\n",
       "      <td>1</td>\n",
       "      <td>1</td>\n",
       "    </tr>\n",
       "    <tr>\n",
       "      <th>...</th>\n",
       "      <td>...</td>\n",
       "      <td>...</td>\n",
       "      <td>...</td>\n",
       "      <td>...</td>\n",
       "      <td>...</td>\n",
       "      <td>...</td>\n",
       "      <td>...</td>\n",
       "      <td>...</td>\n",
       "      <td>...</td>\n",
       "      <td>...</td>\n",
       "      <td>...</td>\n",
       "      <td>...</td>\n",
       "      <td>...</td>\n",
       "      <td>...</td>\n",
       "      <td>...</td>\n",
       "      <td>...</td>\n",
       "      <td>...</td>\n",
       "      <td>...</td>\n",
       "      <td>...</td>\n",
       "      <td>...</td>\n",
       "      <td>...</td>\n",
       "    </tr>\n",
       "    <tr>\n",
       "      <th>571</th>\n",
       "      <td>22011</td>\n",
       "      <td>202695</td>\n",
       "      <td>0021100072</td>\n",
       "      <td>JAN 02, 2012</td>\n",
       "      <td>SAS @ MIN</td>\n",
       "      <td>MIN</td>\n",
       "      <td>L</td>\n",
       "      <td>17</td>\n",
       "      <td>2</td>\n",
       "      <td>6</td>\n",
       "      <td>...</td>\n",
       "      <td>3</td>\n",
       "      <td>1</td>\n",
       "      <td>2</td>\n",
       "      <td>0</td>\n",
       "      <td>0</td>\n",
       "      <td>1</td>\n",
       "      <td>6</td>\n",
       "      <td>-2</td>\n",
       "      <td>0</td>\n",
       "      <td>0</td>\n",
       "    </tr>\n",
       "    <tr>\n",
       "      <th>572</th>\n",
       "      <td>22011</td>\n",
       "      <td>202695</td>\n",
       "      <td>0021100055</td>\n",
       "      <td>DEC 31, 2011</td>\n",
       "      <td>SAS vs. UTA</td>\n",
       "      <td>UTA</td>\n",
       "      <td>W</td>\n",
       "      <td>15</td>\n",
       "      <td>3</td>\n",
       "      <td>5</td>\n",
       "      <td>...</td>\n",
       "      <td>6</td>\n",
       "      <td>0</td>\n",
       "      <td>1</td>\n",
       "      <td>1</td>\n",
       "      <td>1</td>\n",
       "      <td>2</td>\n",
       "      <td>7</td>\n",
       "      <td>-15</td>\n",
       "      <td>0</td>\n",
       "      <td>1</td>\n",
       "    </tr>\n",
       "    <tr>\n",
       "      <th>573</th>\n",
       "      <td>22011</td>\n",
       "      <td>202695</td>\n",
       "      <td>0021100034</td>\n",
       "      <td>DEC 29, 2011</td>\n",
       "      <td>SAS @ HOU</td>\n",
       "      <td>HOU</td>\n",
       "      <td>L</td>\n",
       "      <td>25</td>\n",
       "      <td>3</td>\n",
       "      <td>7</td>\n",
       "      <td>...</td>\n",
       "      <td>4</td>\n",
       "      <td>0</td>\n",
       "      <td>1</td>\n",
       "      <td>0</td>\n",
       "      <td>0</td>\n",
       "      <td>0</td>\n",
       "      <td>8</td>\n",
       "      <td>1</td>\n",
       "      <td>0</td>\n",
       "      <td>0</td>\n",
       "    </tr>\n",
       "    <tr>\n",
       "      <th>574</th>\n",
       "      <td>22011</td>\n",
       "      <td>202695</td>\n",
       "      <td>0021100029</td>\n",
       "      <td>DEC 28, 2011</td>\n",
       "      <td>SAS vs. LAC</td>\n",
       "      <td>LAC</td>\n",
       "      <td>W</td>\n",
       "      <td>20</td>\n",
       "      <td>1</td>\n",
       "      <td>3</td>\n",
       "      <td>...</td>\n",
       "      <td>8</td>\n",
       "      <td>0</td>\n",
       "      <td>0</td>\n",
       "      <td>0</td>\n",
       "      <td>0</td>\n",
       "      <td>1</td>\n",
       "      <td>2</td>\n",
       "      <td>10</td>\n",
       "      <td>0</td>\n",
       "      <td>1</td>\n",
       "    </tr>\n",
       "    <tr>\n",
       "      <th>575</th>\n",
       "      <td>22011</td>\n",
       "      <td>202695</td>\n",
       "      <td>0021100013</td>\n",
       "      <td>DEC 26, 2011</td>\n",
       "      <td>SAS vs. MEM</td>\n",
       "      <td>MEM</td>\n",
       "      <td>W</td>\n",
       "      <td>14</td>\n",
       "      <td>2</td>\n",
       "      <td>9</td>\n",
       "      <td>...</td>\n",
       "      <td>6</td>\n",
       "      <td>1</td>\n",
       "      <td>2</td>\n",
       "      <td>0</td>\n",
       "      <td>1</td>\n",
       "      <td>1</td>\n",
       "      <td>6</td>\n",
       "      <td>0</td>\n",
       "      <td>0</td>\n",
       "      <td>1</td>\n",
       "    </tr>\n",
       "  </tbody>\n",
       "</table>\n",
       "<p>576 rows × 29 columns</p>\n",
       "</div>"
      ],
      "text/plain": [
       "    SEASON_ID  Player_ID     Game_ID     GAME_DATE      MATCHUP  OPP WL  MIN  \\\n",
       "0       22020     202695  0022001047  MAY 13, 2021    LAC @ CHA  CHA  W   31   \n",
       "1       22020     202695  0022001034  MAY 11, 2021    LAC @ TOR  TOR  W   30   \n",
       "2       22020     202695  0022001019  MAY 09, 2021  LAC vs. NYK  NYK  L   36   \n",
       "3       22020     202695  0022001002  MAY 06, 2021  LAC vs. LAL  LAL  W   30   \n",
       "4       22020     202695  0022000989  MAY 04, 2021  LAC vs. TOR  TOR  W   33   \n",
       "..        ...        ...         ...           ...          ...  ... ..  ...   \n",
       "571     22011     202695  0021100072  JAN 02, 2012    SAS @ MIN  MIN  L   17   \n",
       "572     22011     202695  0021100055  DEC 31, 2011  SAS vs. UTA  UTA  W   15   \n",
       "573     22011     202695  0021100034  DEC 29, 2011    SAS @ HOU  HOU  L   25   \n",
       "574     22011     202695  0021100029  DEC 28, 2011  SAS vs. LAC  LAC  W   20   \n",
       "575     22011     202695  0021100013  DEC 26, 2011  SAS vs. MEM  MEM  W   14   \n",
       "\n",
       "     FGM  FGA  ...  REB  AST  STL  BLK  TOV  PF  PTS  PLUS_MINUS  \\\n",
       "0      5    9  ...    3    9    1    0    3   1   16          15   \n",
       "1      6   10  ...    7    5    2    0    1   2   20          11   \n",
       "2      9   26  ...    4    3    1    0    1   0   29          -6   \n",
       "3      4    9  ...    8    6    0    1    5   2   15          21   \n",
       "4      3    6  ...    3    5    0    0    3   0   13          20   \n",
       "..   ...  ...  ...  ...  ...  ...  ...  ...  ..  ...         ...   \n",
       "571    2    6  ...    3    1    2    0    0   1    6          -2   \n",
       "572    3    5  ...    6    0    1    1    1   2    7         -15   \n",
       "573    3    7  ...    4    0    1    0    0   0    8           1   \n",
       "574    1    3  ...    8    0    0    0    0   1    2          10   \n",
       "575    2    9  ...    6    1    2    0    1   1    6           0   \n",
       "\n",
       "     VIDEO_AVAILABLE  WIN  \n",
       "0                  1    1  \n",
       "1                  1    1  \n",
       "2                  1    0  \n",
       "3                  1    1  \n",
       "4                  1    1  \n",
       "..               ...  ...  \n",
       "571                0    0  \n",
       "572                0    1  \n",
       "573                0    0  \n",
       "574                0    1  \n",
       "575                0    1  \n",
       "\n",
       "[576 rows x 29 columns]"
      ]
     },
     "execution_count": 20,
     "metadata": {},
     "output_type": "execute_result"
    }
   ],
   "source": [
    "player_gmlog_car_df"
   ]
  },
  {
   "cell_type": "code",
   "execution_count": 21,
   "metadata": {},
   "outputs": [],
   "source": [
    "player_gmlog_car_df1 = player_gmlog_car_df.groupby(['OPP'])\n",
    "grouped = player_gmlog_car_df1.groups"
   ]
  },
  {
   "cell_type": "markdown",
   "metadata": {},
   "source": [
    "#### **The DataFrame for each season separately**"
   ]
  },
  {
   "cell_type": "code",
   "execution_count": 22,
   "metadata": {},
   "outputs": [
    {
     "name": "stdout",
     "output_type": "stream",
     "text": [
      "count       576\n",
      "unique       10\n",
      "top       22016\n",
      "freq         74\n",
      "Name: SEASON_ID, dtype: object\n"
     ]
    }
   ],
   "source": [
    "print(player_gmlog_car_df.SEASON_ID.describe())"
   ]
  },
  {
   "cell_type": "code",
   "execution_count": 23,
   "metadata": {},
   "outputs": [
    {
     "data": {
      "text/plain": [
       "['22020',\n",
       " '22019',\n",
       " '22018',\n",
       " '22017',\n",
       " '22016',\n",
       " '22015',\n",
       " '22014',\n",
       " '22013',\n",
       " '22012',\n",
       " '22011']"
      ]
     },
     "execution_count": 23,
     "metadata": {},
     "output_type": "execute_result"
    }
   ],
   "source": [
    "sid_list = [sid for sid in player_gmlog_car_df.SEASON_ID.unique()]\n",
    "sid_list"
   ]
  },
  {
   "cell_type": "code",
   "execution_count": 24,
   "metadata": {},
   "outputs": [],
   "source": [
    "season = {}\n",
    "for elem in sid_list:\n",
    "    season[\"df_{}\".format(elem[-4:])] = player_gmlog_car_df[player_gmlog_car_df[\"SEASON_ID\"]==elem]"
   ]
  },
  {
   "cell_type": "code",
   "execution_count": 25,
   "metadata": {},
   "outputs": [
    {
     "data": {
      "text/html": [
       "<div>\n",
       "<style scoped>\n",
       "    .dataframe tbody tr th:only-of-type {\n",
       "        vertical-align: middle;\n",
       "    }\n",
       "\n",
       "    .dataframe tbody tr th {\n",
       "        vertical-align: top;\n",
       "    }\n",
       "\n",
       "    .dataframe thead th {\n",
       "        text-align: right;\n",
       "    }\n",
       "</style>\n",
       "<table border=\"1\" class=\"dataframe\">\n",
       "  <thead>\n",
       "    <tr style=\"text-align: right;\">\n",
       "      <th></th>\n",
       "      <th>Player_ID</th>\n",
       "      <th>MIN</th>\n",
       "      <th>FGM</th>\n",
       "      <th>FGA</th>\n",
       "      <th>FG_PCT</th>\n",
       "      <th>FG3M</th>\n",
       "      <th>FG3A</th>\n",
       "      <th>FG3_PCT</th>\n",
       "      <th>FTM</th>\n",
       "      <th>FTA</th>\n",
       "      <th>...</th>\n",
       "      <th>REB</th>\n",
       "      <th>AST</th>\n",
       "      <th>STL</th>\n",
       "      <th>BLK</th>\n",
       "      <th>TOV</th>\n",
       "      <th>PF</th>\n",
       "      <th>PTS</th>\n",
       "      <th>PLUS_MINUS</th>\n",
       "      <th>VIDEO_AVAILABLE</th>\n",
       "      <th>WIN</th>\n",
       "    </tr>\n",
       "  </thead>\n",
       "  <tbody>\n",
       "    <tr>\n",
       "      <th>count</th>\n",
       "      <td>57.0</td>\n",
       "      <td>57.000000</td>\n",
       "      <td>57.000000</td>\n",
       "      <td>57.000000</td>\n",
       "      <td>57.000000</td>\n",
       "      <td>57.000000</td>\n",
       "      <td>57.000000</td>\n",
       "      <td>57.000000</td>\n",
       "      <td>57.000000</td>\n",
       "      <td>57.000000</td>\n",
       "      <td>...</td>\n",
       "      <td>57.000000</td>\n",
       "      <td>57.000000</td>\n",
       "      <td>57.000000</td>\n",
       "      <td>57.000000</td>\n",
       "      <td>57.000000</td>\n",
       "      <td>57.000000</td>\n",
       "      <td>57.000000</td>\n",
       "      <td>57.000000</td>\n",
       "      <td>57.0</td>\n",
       "      <td>57.000000</td>\n",
       "    </tr>\n",
       "    <tr>\n",
       "      <th>mean</th>\n",
       "      <td>202695.0</td>\n",
       "      <td>32.491228</td>\n",
       "      <td>9.333333</td>\n",
       "      <td>19.877193</td>\n",
       "      <td>0.471439</td>\n",
       "      <td>2.157895</td>\n",
       "      <td>5.701754</td>\n",
       "      <td>0.381123</td>\n",
       "      <td>6.245614</td>\n",
       "      <td>7.052632</td>\n",
       "      <td>...</td>\n",
       "      <td>7.052632</td>\n",
       "      <td>4.912281</td>\n",
       "      <td>1.807018</td>\n",
       "      <td>0.578947</td>\n",
       "      <td>2.614035</td>\n",
       "      <td>1.982456</td>\n",
       "      <td>27.070175</td>\n",
       "      <td>8.385965</td>\n",
       "      <td>1.0</td>\n",
       "      <td>0.719298</td>\n",
       "    </tr>\n",
       "    <tr>\n",
       "      <th>std</th>\n",
       "      <td>0.0</td>\n",
       "      <td>4.942971</td>\n",
       "      <td>2.714599</td>\n",
       "      <td>4.480394</td>\n",
       "      <td>0.108615</td>\n",
       "      <td>1.306433</td>\n",
       "      <td>2.187341</td>\n",
       "      <td>0.196284</td>\n",
       "      <td>3.241917</td>\n",
       "      <td>3.450782</td>\n",
       "      <td>...</td>\n",
       "      <td>3.055563</td>\n",
       "      <td>2.269996</td>\n",
       "      <td>1.109031</td>\n",
       "      <td>0.777987</td>\n",
       "      <td>1.887500</td>\n",
       "      <td>1.356087</td>\n",
       "      <td>6.966398</td>\n",
       "      <td>14.702714</td>\n",
       "      <td>0.0</td>\n",
       "      <td>0.453336</td>\n",
       "    </tr>\n",
       "    <tr>\n",
       "      <th>min</th>\n",
       "      <td>202695.0</td>\n",
       "      <td>21.000000</td>\n",
       "      <td>2.000000</td>\n",
       "      <td>11.000000</td>\n",
       "      <td>0.182000</td>\n",
       "      <td>0.000000</td>\n",
       "      <td>1.000000</td>\n",
       "      <td>0.000000</td>\n",
       "      <td>0.000000</td>\n",
       "      <td>0.000000</td>\n",
       "      <td>...</td>\n",
       "      <td>2.000000</td>\n",
       "      <td>0.000000</td>\n",
       "      <td>0.000000</td>\n",
       "      <td>0.000000</td>\n",
       "      <td>0.000000</td>\n",
       "      <td>0.000000</td>\n",
       "      <td>11.000000</td>\n",
       "      <td>-23.000000</td>\n",
       "      <td>1.0</td>\n",
       "      <td>0.000000</td>\n",
       "    </tr>\n",
       "    <tr>\n",
       "      <th>25%</th>\n",
       "      <td>202695.0</td>\n",
       "      <td>28.000000</td>\n",
       "      <td>8.000000</td>\n",
       "      <td>16.000000</td>\n",
       "      <td>0.409000</td>\n",
       "      <td>1.000000</td>\n",
       "      <td>4.000000</td>\n",
       "      <td>0.250000</td>\n",
       "      <td>4.000000</td>\n",
       "      <td>5.000000</td>\n",
       "      <td>...</td>\n",
       "      <td>5.000000</td>\n",
       "      <td>3.000000</td>\n",
       "      <td>1.000000</td>\n",
       "      <td>0.000000</td>\n",
       "      <td>1.000000</td>\n",
       "      <td>1.000000</td>\n",
       "      <td>24.000000</td>\n",
       "      <td>-2.000000</td>\n",
       "      <td>1.0</td>\n",
       "      <td>0.000000</td>\n",
       "    </tr>\n",
       "    <tr>\n",
       "      <th>50%</th>\n",
       "      <td>202695.0</td>\n",
       "      <td>33.000000</td>\n",
       "      <td>9.000000</td>\n",
       "      <td>20.000000</td>\n",
       "      <td>0.476000</td>\n",
       "      <td>2.000000</td>\n",
       "      <td>6.000000</td>\n",
       "      <td>0.400000</td>\n",
       "      <td>6.000000</td>\n",
       "      <td>7.000000</td>\n",
       "      <td>...</td>\n",
       "      <td>6.000000</td>\n",
       "      <td>5.000000</td>\n",
       "      <td>2.000000</td>\n",
       "      <td>0.000000</td>\n",
       "      <td>2.000000</td>\n",
       "      <td>2.000000</td>\n",
       "      <td>27.000000</td>\n",
       "      <td>12.000000</td>\n",
       "      <td>1.0</td>\n",
       "      <td>1.000000</td>\n",
       "    </tr>\n",
       "    <tr>\n",
       "      <th>75%</th>\n",
       "      <td>202695.0</td>\n",
       "      <td>36.000000</td>\n",
       "      <td>11.000000</td>\n",
       "      <td>23.000000</td>\n",
       "      <td>0.550000</td>\n",
       "      <td>3.000000</td>\n",
       "      <td>7.000000</td>\n",
       "      <td>0.500000</td>\n",
       "      <td>8.000000</td>\n",
       "      <td>9.000000</td>\n",
       "      <td>...</td>\n",
       "      <td>9.000000</td>\n",
       "      <td>6.000000</td>\n",
       "      <td>2.000000</td>\n",
       "      <td>1.000000</td>\n",
       "      <td>3.000000</td>\n",
       "      <td>3.000000</td>\n",
       "      <td>31.000000</td>\n",
       "      <td>16.000000</td>\n",
       "      <td>1.0</td>\n",
       "      <td>1.000000</td>\n",
       "    </tr>\n",
       "    <tr>\n",
       "      <th>max</th>\n",
       "      <td>202695.0</td>\n",
       "      <td>46.000000</td>\n",
       "      <td>15.000000</td>\n",
       "      <td>32.000000</td>\n",
       "      <td>0.688000</td>\n",
       "      <td>6.000000</td>\n",
       "      <td>10.000000</td>\n",
       "      <td>1.000000</td>\n",
       "      <td>19.000000</td>\n",
       "      <td>19.000000</td>\n",
       "      <td>...</td>\n",
       "      <td>14.000000</td>\n",
       "      <td>10.000000</td>\n",
       "      <td>5.000000</td>\n",
       "      <td>3.000000</td>\n",
       "      <td>9.000000</td>\n",
       "      <td>5.000000</td>\n",
       "      <td>43.000000</td>\n",
       "      <td>39.000000</td>\n",
       "      <td>1.0</td>\n",
       "      <td>1.000000</td>\n",
       "    </tr>\n",
       "  </tbody>\n",
       "</table>\n",
       "<p>8 rows × 23 columns</p>\n",
       "</div>"
      ],
      "text/plain": [
       "       Player_ID        MIN        FGM        FGA     FG_PCT       FG3M  \\\n",
       "count       57.0  57.000000  57.000000  57.000000  57.000000  57.000000   \n",
       "mean    202695.0  32.491228   9.333333  19.877193   0.471439   2.157895   \n",
       "std          0.0   4.942971   2.714599   4.480394   0.108615   1.306433   \n",
       "min     202695.0  21.000000   2.000000  11.000000   0.182000   0.000000   \n",
       "25%     202695.0  28.000000   8.000000  16.000000   0.409000   1.000000   \n",
       "50%     202695.0  33.000000   9.000000  20.000000   0.476000   2.000000   \n",
       "75%     202695.0  36.000000  11.000000  23.000000   0.550000   3.000000   \n",
       "max     202695.0  46.000000  15.000000  32.000000   0.688000   6.000000   \n",
       "\n",
       "            FG3A    FG3_PCT        FTM        FTA  ...        REB        AST  \\\n",
       "count  57.000000  57.000000  57.000000  57.000000  ...  57.000000  57.000000   \n",
       "mean    5.701754   0.381123   6.245614   7.052632  ...   7.052632   4.912281   \n",
       "std     2.187341   0.196284   3.241917   3.450782  ...   3.055563   2.269996   \n",
       "min     1.000000   0.000000   0.000000   0.000000  ...   2.000000   0.000000   \n",
       "25%     4.000000   0.250000   4.000000   5.000000  ...   5.000000   3.000000   \n",
       "50%     6.000000   0.400000   6.000000   7.000000  ...   6.000000   5.000000   \n",
       "75%     7.000000   0.500000   8.000000   9.000000  ...   9.000000   6.000000   \n",
       "max    10.000000   1.000000  19.000000  19.000000  ...  14.000000  10.000000   \n",
       "\n",
       "             STL        BLK        TOV         PF        PTS  PLUS_MINUS  \\\n",
       "count  57.000000  57.000000  57.000000  57.000000  57.000000   57.000000   \n",
       "mean    1.807018   0.578947   2.614035   1.982456  27.070175    8.385965   \n",
       "std     1.109031   0.777987   1.887500   1.356087   6.966398   14.702714   \n",
       "min     0.000000   0.000000   0.000000   0.000000  11.000000  -23.000000   \n",
       "25%     1.000000   0.000000   1.000000   1.000000  24.000000   -2.000000   \n",
       "50%     2.000000   0.000000   2.000000   2.000000  27.000000   12.000000   \n",
       "75%     2.000000   1.000000   3.000000   3.000000  31.000000   16.000000   \n",
       "max     5.000000   3.000000   9.000000   5.000000  43.000000   39.000000   \n",
       "\n",
       "       VIDEO_AVAILABLE        WIN  \n",
       "count             57.0  57.000000  \n",
       "mean               1.0   0.719298  \n",
       "std                0.0   0.453336  \n",
       "min                1.0   0.000000  \n",
       "25%                1.0   0.000000  \n",
       "50%                1.0   1.000000  \n",
       "75%                1.0   1.000000  \n",
       "max                1.0   1.000000  \n",
       "\n",
       "[8 rows x 23 columns]"
      ]
     },
     "execution_count": 25,
     "metadata": {},
     "output_type": "execute_result"
    }
   ],
   "source": [
    "season[\"df_{}\".format(SeasonSelected)].describe()"
   ]
  },
  {
   "cell_type": "code",
   "execution_count": 26,
   "metadata": {},
   "outputs": [
    {
     "data": {
      "text/plain": [
       "Text(0.5, 0, 'FGA')"
      ]
     },
     "execution_count": 26,
     "metadata": {},
     "output_type": "execute_result"
    },
    {
     "data": {
      "image/png": "[encoded data removed]",
      "text/plain": [
       "<Figure size 432x288 with 2 Axes>"
      ]
     },
     "metadata": {
      "needs_background": "light"
     },
     "output_type": "display_data"
    }
   ],
   "source": [
    "season[\"df_{}\".format(SeasonSelected)].plot.scatter(x=\"FGA\", y=\"PTS\", c=\"FG_PCT\", s=70, cmap=\"Blues\")\n",
    "plt.xlabel(\"FGA\")\n",
    "plt.title(\"The number of points scored / Efficiency\", fontsize=12, fontweight=\"bold\", color=\"blue\")\n",
    "plt.xlabel(\"FGA\", fontweight=\"bold\")"
   ]
  },
  {
   "cell_type": "markdown",
   "metadata": {
    "id": "3FSrVw1vI7GM"
   },
   "source": [
    "### **TEAMS**"
   ]
  },
  {
   "cell_type": "code",
   "execution_count": 27,
   "metadata": {
    "id": "iiwFXLy1ALPF"
   },
   "outputs": [
    {
     "data": {
      "text/plain": [
       "Index(['id', 'full_name', 'abbreviation', 'nickname', 'city', 'state',\n",
       "       'year_founded'],\n",
       "      dtype='object')"
      ]
     },
     "execution_count": 27,
     "metadata": {},
     "output_type": "execute_result"
    }
   ],
   "source": [
    "teams_df = pd.DataFrame(teams.get_teams())\n",
    "teams_df.columns"
   ]
  },
  {
   "cell_type": "markdown",
   "metadata": {
    "id": "G44vVU5pDB6F"
   },
   "source": [
    "##### **Find the id of a team**"
   ]
  },
  {
   "cell_type": "code",
   "execution_count": 28,
   "metadata": {
    "id": "nRrLblR1Cs68"
   },
   "outputs": [
    {
     "data": {
      "text/plain": [
       "1610612746"
      ]
     },
     "execution_count": 28,
     "metadata": {},
     "output_type": "execute_result"
    }
   ],
   "source": [
    "team_id = teams_df[teams_df[\"full_name\"]==TeamNameSelected].iloc[0, 0]\n",
    "team_id"
   ]
  },
  {
   "cell_type": "markdown",
   "metadata": {
    "id": "zp6g_WxOb5OW"
   },
   "source": [
    "### **The foundation year of every NBA Teams**"
   ]
  },
  {
   "cell_type": "code",
   "execution_count": 29,
   "metadata": {
    "id": "67wi8viScFov"
   },
   "outputs": [],
   "source": [
    "year_found_df = teams_df[['full_name', 'nickname', 'state', 'year_founded']]\n",
    "#year_found_df.sort_values('year_founded')"
   ]
  },
  {
   "cell_type": "code",
   "execution_count": 30,
   "metadata": {
    "id": "-RipNLmy7GQ2"
   },
   "outputs": [],
   "source": [
    "num_year_ex = 2021 - teams_df['year_founded']"
   ]
  },
  {
   "cell_type": "code",
   "execution_count": 31,
   "metadata": {
    "id": "LvXnV4Lk8YHJ"
   },
   "outputs": [],
   "source": [
    "teams_df.insert(4, \"num_year_ex\", num_year_ex, True)"
   ]
  },
  {
   "cell_type": "code",
   "execution_count": 32,
   "metadata": {
    "id": "493pD1wvvcqX"
   },
   "outputs": [
    {
     "data": {
      "text/plain": [
       "<AxesSubplot:xlabel='nickname', ylabel='year_founded'>"
      ]
     },
     "execution_count": 32,
     "metadata": {},
     "output_type": "execute_result"
    },
    {
     "data": {
      "image/png": "[encoded data removed]",
      "text/plain": [
       "<Figure size 432x288 with 1 Axes>"
      ]
     },
     "metadata": {
      "needs_background": "light"
     },
     "output_type": "display_data"
    }
   ],
   "source": [
    "teams_df.plot.scatter(x='nickname', y='year_founded', s=teams_df[\"num_year_ex\"] * 3)"
   ]
  },
  {
   "cell_type": "code",
   "execution_count": 33,
   "metadata": {},
   "outputs": [
    {
     "data": {
      "text/plain": [
       "Text(0.5, 0, 'years_founded')"
      ]
     },
     "execution_count": 33,
     "metadata": {},
     "output_type": "execute_result"
    },
    {
     "data": {
      "image/png": "[encoded data removed]",
      "text/plain": [
       "<Figure size 432x288 with 1 Axes>"
      ]
     },
     "metadata": {
      "needs_background": "light"
     },
     "output_type": "display_data"
    }
   ],
   "source": [
    "teams_df.plot.barh(x=\"nickname\", y=\"num_year_ex\", color=\"red\")\n",
    "plt.xlabel(\"years_founded\")"
   ]
  },
  {
   "cell_type": "code",
   "execution_count": null,
   "metadata": {},
   "outputs": [],
   "source": []
  },
  {
   "cell_type": "code",
   "execution_count": null,
   "metadata": {},
   "outputs": [],
   "source": []
  }
 ],
 "metadata": {
  "colab": {
   "collapsed_sections": [],
   "name": "nba_api.ipynb",
   "provenance": []
  },
  "kernelspec": {
   "display_name": "Python 3",
   "language": "python",
   "name": "python3"
  },
  "language_info": {
   "codemirror_mode": {
    "name": "ipython",
    "version": 3
   },
   "file_extension": ".py",
   "mimetype": "text/x-python",
   "name": "python",
   "nbconvert_exporter": "python",
   "pygments_lexer": "ipython3",
   "version": "3.7.3"
  }
 },
 "nbformat": 4,
 "nbformat_minor": 4
}
